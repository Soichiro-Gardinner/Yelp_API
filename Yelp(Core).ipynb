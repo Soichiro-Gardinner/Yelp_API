{
 "cells": [
  {
   "cell_type": "code",
   "execution_count": 1,
   "id": "a34fa277",
   "metadata": {},
   "outputs": [],
   "source": [
    "import numpy as np \n",
    "import pandas as pd\n",
    "import matplotlib.pyplot as plt\n",
    "import seaborn as sns\n",
    "import os\n",
    "import json\n",
    "import math\n",
    "import time\n",
    "from yelpapi import YelpAPI as YALP\n",
    "from tqdm.notebook import tqdm_notebook as tqn"
   ]
  },
  {
   "cell_type": "code",
   "execution_count": 2,
   "id": "70280f51",
   "metadata": {},
   "outputs": [
    {
     "name": "stdout",
     "output_type": "stream",
     "text": [
      "Requirement already satisfied: yelpapi in c:\\anaconda\\envs\\dojo-env\\lib\\site-packages (2.5.0)\n",
      "Requirement already satisfied: requests in c:\\anaconda\\envs\\dojo-env\\lib\\site-packages (from yelpapi) (2.28.1)\n",
      "Requirement already satisfied: urllib3<1.27,>=1.21.1 in c:\\anaconda\\envs\\dojo-env\\lib\\site-packages (from requests->yelpapi) (1.26.13)\n",
      "Requirement already satisfied: certifi>=2017.4.17 in c:\\anaconda\\envs\\dojo-env\\lib\\site-packages (from requests->yelpapi) (2022.9.24)\n",
      "Requirement already satisfied: idna<4,>=2.5 in c:\\anaconda\\envs\\dojo-env\\lib\\site-packages (from requests->yelpapi) (3.4)\n",
      "Requirement already satisfied: charset-normalizer<3,>=2 in c:\\anaconda\\envs\\dojo-env\\lib\\site-packages (from requests->yelpapi) (2.0.4)\n",
      "Requirement already satisfied: tqdm in c:\\anaconda\\envs\\dojo-env\\lib\\site-packages (4.64.1)\n",
      "Requirement already satisfied: colorama in c:\\anaconda\\envs\\dojo-env\\lib\\site-packages (from tqdm) (0.4.5)\n",
      "Imports done\n"
     ]
    }
   ],
   "source": [
    "# Check if required packages are installed, if not, install them\n",
    "!pip install yelpapi\n",
    "!pip install tqdm\n",
    "\n",
    "print(\"Imports done\")"
   ]
  },
  {
   "cell_type": "code",
   "execution_count": 3,
   "id": "4261e44b",
   "metadata": {},
   "outputs": [
    {
     "name": "stdout",
     "output_type": "stream",
     "text": [
      "API credentials loaded\n"
     ]
    }
   ],
   "source": [
    "# Load API Credentials\n",
    "with open(\"/Users/casta/.secret/yelp_api.json\",\"r\") as f:\n",
    "    login = json.load(f)\n",
    "print(\"API credentials loaded\")"
   ]
  },
  {
   "cell_type": "code",
   "execution_count": 4,
   "id": "cdbb9333",
   "metadata": {},
   "outputs": [
    {
     "name": "stdout",
     "output_type": "stream",
     "text": [
      "YelpAPI object created\n",
      "Location: Seattle\n"
     ]
    }
   ],
   "source": [
    "# Instantiate Yelp API object\n",
    "yelp = YALP(login['api-key'], timeout_s=5.0)\n",
    "print(\"YelpAPI object created\")\n",
    "\n",
    "# Define search terms and file paths\n",
    "location = \"Seattle, WA 98122\"\n",
    "term = \"pizza\"\n",
    "loc = location.split(\",\")[0]\n",
    "print(\"Location:\", loc)"
   ]
  },
  {
   "cell_type": "code",
   "execution_count": 5,
   "id": "f2551e58",
   "metadata": {},
   "outputs": [
    {
     "name": "stdout",
     "output_type": "stream",
     "text": [
      "Directory file created: Data/Seattle-pizza.json\n",
      "[i] Data/Seattle-pizza.json already exists.\n"
     ]
    }
   ],
   "source": [
    "# Specify folder for saving data\n",
    "folder = \"Data/\"\n",
    "os.makedirs(folder, exist_ok=True)\n",
    "JSON_FILE = folder + f\"{loc}-{term}.json\"\n",
    "print(\"Directory file created:\", JSON_FILE)\n",
    "\n",
    "# Check if JSON file exists, if not, create an empty file\n",
    "if not os.path.isfile(JSON_FILE):\n",
    "    print(f\"[i] {JSON_FILE} not found. Saving empty list to file.\")\n",
    "    with open(JSON_FILE, \"w\") as f:\n",
    "        json.dump([], f)\n",
    "else:\n",
    "    print(f\"[i] {JSON_FILE} already exists.\")"
   ]
  },
  {
   "cell_type": "code",
   "execution_count": 6,
   "id": "a58cd679",
   "metadata": {},
   "outputs": [
    {
     "name": "stdout",
     "output_type": "stream",
     "text": [
      "Loaded 0 results from 0 pages\n"
     ]
    }
   ],
   "source": [
    "# Load JSON file and account for previous results\n",
    "with open(JSON_FILE, \"r\") as f:\n",
    "    data = json.load(f)\n",
    "    results_per_page = len(data)\n",
    "    n_pages = math.ceil(results_per_page / 50)  # Assuming 50 results per page\n",
    "    print(f\"Loaded {results_per_page} results from {n_pages} pages\")\n",
    "\n",
    "# API call to get the first page data\n",
    "results = yelp.search_query(term=term, location=location)\n",
    "total_results = results[\"total\"]\n",
    "results_per_page = len(results[\"businesses\"])\n",
    "n_pages = math.ceil(total_results / results_per_page)"
   ]
  },
  {
   "cell_type": "code",
   "execution_count": 7,
   "id": "eb21f221",
   "metadata": {},
   "outputs": [
    {
     "name": "stdout",
     "output_type": "stream",
     "text": [
      "Page 2 - Extracted 20 results\n",
      "Page 3 - Extracted 20 results\n",
      "Page 4 - Extracted 20 results\n",
      "Page 5 - Extracted 20 results\n",
      "Page 6 - Extracted 20 results\n",
      "Page 7 - Extracted 20 results\n",
      "Page 8 - Extracted 20 results\n",
      "Page 9 - Extracted 20 results\n",
      "Page 10 - Extracted 20 results\n",
      "Page 11 - Extracted 20 results\n",
      "Page 12 - Extracted 20 results\n",
      "Page 13 - Extracted 20 results\n",
      "Page 14 - Extracted 20 results\n",
      "Page 15 - Extracted 20 results\n",
      "Page 16 - Extracted 20 results\n",
      "Page 17 - Extracted 20 results\n",
      "Page 18 - Extracted 20 results\n",
      "Page 19 - Extracted 20 results\n",
      "Page 20 - Extracted 20 results\n",
      "Page 21 - Extracted 20 results\n",
      "Page 22 - Extracted 20 results\n",
      "Page 23 - Extracted 20 results\n",
      "Page 24 - Extracted 20 results\n",
      "Page 25 - Extracted 20 results\n",
      "Page 26 - Extracted 20 results\n",
      "Page 27 - Extracted 20 results\n",
      "Page 28 - Extracted 20 results\n",
      "Page 29 - Extracted 20 results\n",
      "Page 30 - Extracted 20 results\n",
      "Page 31 - Extracted 20 results\n",
      "Page 32 - Extracted 20 results\n",
      "Page 33 - Extracted 20 results\n",
      "Page 34 - Extracted 20 results\n",
      "Page 35 - Extracted 20 results\n",
      "Page 36 - Extracted 20 results\n",
      "Page 37 - Extracted 20 results\n",
      "Page 38 - Extracted 20 results\n",
      "Page 39 - Extracted 20 results\n",
      "Page 40 - Extracted 20 results\n",
      "Page 41 - Extracted 20 results\n",
      "Page 42 - Extracted 20 results\n",
      "Page 43 - Extracted 10 results\n",
      "Total of 830 results saved to Data/Seattle-pizza.json\n",
      "Dataframe created:\n",
      "                       id                             alias  \\\n",
      "0  QeeiVw_OjxWmTiSH0A6qgA                rione-xiii-seattle   \n",
      "1  IIHDuM9KiNBwL3mm5et_IA  thats-amore-italian-cafe-seattle   \n",
      "2  n6BLr6spgjVWqzUwmVx0bg       johnny-mos-pizzeria-seattle   \n",
      "3  ENxs0vvtkJYxQqaZ3sbEjw          my-friend-dereks-seattle   \n",
      "4  HeJP0ZS0tCCn-X9ezYSz3g   ian-s-pizza-on-the-hill-seattle   \n",
      "\n",
      "                         name  \\\n",
      "0                  Rione XIII   \n",
      "1  That's Amore! Italian Cafe   \n",
      "2        Johnny Mo's Pizzeria   \n",
      "3           My Friend Derek's   \n",
      "4     Ian’s Pizza on the Hill   \n",
      "\n",
      "                                           image_url  is_closed  \\\n",
      "0  https://s3-media2.fl.yelpcdn.com/bphoto/ENHXwc...      False   \n",
      "1  https://s3-media2.fl.yelpcdn.com/bphoto/__U6io...      False   \n",
      "2  https://s3-media4.fl.yelpcdn.com/bphoto/8IAnDP...      False   \n",
      "3  https://s3-media1.fl.yelpcdn.com/bphoto/d-DVGe...      False   \n",
      "4  https://s3-media1.fl.yelpcdn.com/bphoto/gD-SKu...      False   \n",
      "\n",
      "                                                 url  review_count  \\\n",
      "0  https://www.yelp.com/biz/rione-xiii-seattle?ad...           415   \n",
      "1  https://www.yelp.com/biz/thats-amore-italian-c...           368   \n",
      "2  https://www.yelp.com/biz/johnny-mos-pizzeria-s...           152   \n",
      "3  https://www.yelp.com/biz/my-friend-dereks-seat...            27   \n",
      "4  https://www.yelp.com/biz/ian-s-pizza-on-the-hi...           311   \n",
      "\n",
      "                                          categories  rating  \\\n",
      "0  [{'alias': 'pizza', 'title': 'Pizza'}, {'alias...     4.0   \n",
      "1  [{'alias': 'italian', 'title': 'Italian'}, {'a...     4.5   \n",
      "2             [{'alias': 'pizza', 'title': 'Pizza'}]     4.5   \n",
      "3  [{'alias': 'foodtrucks', 'title': 'Food Trucks...     5.0   \n",
      "4  [{'alias': 'pizza', 'title': 'Pizza'}, {'alias...     4.0   \n",
      "\n",
      "                                         coordinates  \\\n",
      "0  {'latitude': 47.6220785, 'longitude': -122.312...   \n",
      "1    {'latitude': 47.58956, 'longitude': -122.29267}   \n",
      "2    {'latitude': 47.65142, 'longitude': -122.32083}   \n",
      "3  {'latitude': 47.651515, 'longitude': -122.343613}   \n",
      "4  {'latitude': 47.615894, 'longitude': -122.320476}   \n",
      "\n",
      "                                 transactions price  \\\n",
      "0  [restaurant_reservation, delivery, pickup]    $$   \n",
      "1                                  [delivery]    $$   \n",
      "2                          [delivery, pickup]    $$   \n",
      "3                                          []   NaN   \n",
      "4                          [delivery, pickup]     $   \n",
      "\n",
      "                                            location         phone  \\\n",
      "0  {'address1': '401 15th Ave E', 'address2': '',...  +12068382878   \n",
      "1  {'address1': '1425 31st Ave S', 'address2': ''...  +12063223677   \n",
      "2  {'address1': '3272 Fuhrman Ave E', 'address2':...  +12068226272   \n",
      "3  {'address1': '3632 Woodland Park Ave N', 'addr...                 \n",
      "4  {'address1': '1620 Broadway', 'address2': '', ...  +12066594721   \n",
      "\n",
      "    display_phone     distance  \n",
      "0  (206) 838-2878  1626.190834  \n",
      "1  (206) 322-3677  2626.925000  \n",
      "2  (206) 822-6272  4658.301257  \n",
      "3                  5581.310444  \n",
      "4  (206) 659-4721  1884.178031  \n"
     ]
    }
   ],
   "source": [
    "# Loop through remaining pages to extract all results\n",
    "for page in range(1, n_pages):\n",
    "    time.sleep(1)  # Pause to avoid overwhelming the server\n",
    "    results = yelp.search_query(term=term, location=location, offset=page * results_per_page)\n",
    "    data.extend(results[\"businesses\"])\n",
    "    print(f\"Page {page + 1} - Extracted {len(results['businesses'])} results\")\n",
    "\n",
    "# Save the updated data to the JSON file\n",
    "with open(JSON_FILE, \"w\") as f:\n",
    "    json.dump(data, f)\n",
    "print(f\"Total of {len(data)} results saved to {JSON_FILE}\")\n",
    "\n",
    "# Compile the results into a dataframe\n",
    "df = pd.DataFrame(data)\n",
    "print(\"Dataframe created:\")\n",
    "print(df.head())"
   ]
  }
 ],
 "metadata": {
  "kernelspec": {
   "display_name": "Python (dojo-env)",
   "language": "python",
   "name": "dojo-env"
  },
  "language_info": {
   "codemirror_mode": {
    "name": "ipython",
    "version": 3
   },
   "file_extension": ".py",
   "mimetype": "text/x-python",
   "name": "python",
   "nbconvert_exporter": "python",
   "pygments_lexer": "ipython3",
   "version": "3.9.15"
  },
  "toc": {
   "base_numbering": 1,
   "nav_menu": {},
   "number_sections": true,
   "sideBar": true,
   "skip_h1_title": false,
   "title_cell": "Table of Contents",
   "title_sidebar": "Contents",
   "toc_cell": false,
   "toc_position": {},
   "toc_section_display": true,
   "toc_window_display": false
  }
 },
 "nbformat": 4,
 "nbformat_minor": 5
}
