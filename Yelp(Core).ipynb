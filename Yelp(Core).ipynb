{
 "cells": [
  {
   "cell_type": "code",
   "execution_count": 1,
   "id": "a34fa277",
   "metadata": {},
   "outputs": [],
   "source": [
    "import numpy as np \n",
    "import pandas as pd\n",
    "import matplotlib.pyplot as plt\n",
    "import seaborn as sns\n",
    "import os\n",
    "import json\n",
    "import math\n",
    "import time\n",
    "from yelpapi import YelpAPI as YALP\n",
    "from tqdm.notebook import tqdm_notebook as tqn"
   ]
  },
  {
   "cell_type": "code",
   "execution_count": 2,
   "id": "70280f51",
   "metadata": {},
   "outputs": [
    {
     "name": "stdout",
     "output_type": "stream",
     "text": [
      "Requirement already satisfied: yelpapi in c:\\anaconda\\envs\\dojo-env\\lib\\site-packages (2.5.0)\n",
      "Requirement already satisfied: requests in c:\\anaconda\\envs\\dojo-env\\lib\\site-packages (from yelpapi) (2.28.1)\n",
      "Requirement already satisfied: charset-normalizer<3,>=2 in c:\\anaconda\\envs\\dojo-env\\lib\\site-packages (from requests->yelpapi) (2.0.4)\n",
      "Requirement already satisfied: idna<4,>=2.5 in c:\\anaconda\\envs\\dojo-env\\lib\\site-packages (from requests->yelpapi) (3.4)\n",
      "Requirement already satisfied: urllib3<1.27,>=1.21.1 in c:\\anaconda\\envs\\dojo-env\\lib\\site-packages (from requests->yelpapi) (1.26.13)\n",
      "Requirement already satisfied: certifi>=2017.4.17 in c:\\anaconda\\envs\\dojo-env\\lib\\site-packages (from requests->yelpapi) (2022.9.24)\n",
      "Requirement already satisfied: tqdm in c:\\anaconda\\envs\\dojo-env\\lib\\site-packages (4.64.1)\n",
      "Requirement already satisfied: colorama in c:\\anaconda\\envs\\dojo-env\\lib\\site-packages (from tqdm) (0.4.5)\n",
      "Imports done\n"
     ]
    }
   ],
   "source": [
    "# Check if required packages are installed, if not, install them\n",
    "!pip install yelpapi\n",
    "!pip install tqdm\n",
    "\n",
    "print(\"Imports done\")"
   ]
  },
  {
   "cell_type": "code",
   "execution_count": 3,
   "id": "4261e44b",
   "metadata": {},
   "outputs": [
    {
     "name": "stdout",
     "output_type": "stream",
     "text": [
      "API credentials loaded\n"
     ]
    }
   ],
   "source": [
    "# Load API Credentials\n",
    "with open(\"/Users/casta/.secret/yelp_api.json\",\"r\") as f:\n",
    "    login = json.load(f)\n",
    "print(\"API credentials loaded\")"
   ]
  },
  {
   "cell_type": "code",
   "execution_count": 4,
   "id": "cdbb9333",
   "metadata": {},
   "outputs": [
    {
     "name": "stdout",
     "output_type": "stream",
     "text": [
      "YelpAPI object created\n",
      "Location: San Francisco\n"
     ]
    }
   ],
   "source": [
    "# Instantiate Yelp API object\n",
    "yelp = YALP(login['api-key'], timeout_s=5.0)\n",
    "print(\"YelpAPI object created\")\n",
    "\n",
    "# Define search terms and file paths\n",
    "location = \"San Francisco, CA\"\n",
    "term = \"sushi\"\n",
    "loc = location.split(\",\")[0]\n",
    "print(\"Location:\", loc)"
   ]
  },
  {
   "cell_type": "code",
   "execution_count": 5,
   "id": "f2551e58",
   "metadata": {},
   "outputs": [
    {
     "name": "stdout",
     "output_type": "stream",
     "text": [
      "Directory file created: Data/San Francisco-sushi.json\n",
      "[i] Data/San Francisco-sushi.json already exists.\n"
     ]
    }
   ],
   "source": [
    "# Specify folder for saving data\n",
    "folder = \"Data/\"\n",
    "os.makedirs(folder, exist_ok=True)\n",
    "JSON_FILE = folder + f\"{loc}-{term}.json\"\n",
    "print(\"Directory file created:\", JSON_FILE)\n",
    "\n",
    "# Check if JSON file exists, if not, create an empty file\n",
    "if not os.path.isfile(JSON_FILE):\n",
    "    print(f\"[i] {JSON_FILE} not found. Saving empty list to file.\")\n",
    "    with open(JSON_FILE, \"w\") as f:\n",
    "        json.dump([], f)\n",
    "else:\n",
    "    print(f\"[i] {JSON_FILE} already exists.\")"
   ]
  },
  {
   "cell_type": "code",
   "execution_count": 6,
   "id": "a58cd679",
   "metadata": {},
   "outputs": [
    {
     "name": "stdout",
     "output_type": "stream",
     "text": [
      "Loaded 0 results from 0\n"
     ]
    }
   ],
   "source": [
    "# Load JSON file and account for previous results\n",
    "with open(JSON_FILE, \"r\") as f:\n",
    "    data = json.load(f)\n",
    "    results_per_page = len(data)\n",
    "    n_pages = math.ceil(results_per_page / 50) # Assuming 50\n",
    "    print(f\"Loaded {results_per_page} results from {n_pages}\")\n",
    "\n",
    "# API call to get the first page data\n",
    "results = yelp.search_query(term=term, location=location)\n",
    "total_results = results[\"total\"]\n",
    "results_per_page = len(results[\"businesses\"])\n",
    "n_pages = math.ceil(total_results / results_per_page)"
   ]
  },
  {
   "cell_type": "code",
   "execution_count": 9,
   "id": "eb21f221",
   "metadata": {
    "scrolled": true
   },
   "outputs": [
    {
     "name": "stdout",
     "output_type": "stream",
     "text": [
      "140\n",
      "Page 2 - Extracted 20 results\n",
      "Page 3 - Extracted 20 results\n",
      "Page 4 - Extracted 20 results\n",
      "Page 5 - Extracted 20 results\n",
      "Page 6 - Extracted 20 results\n",
      "Total of 3040 results saved to Data/San Francisco-sushi.json\n",
      "Dataframe created:\n",
      "                       id                                   alias  \\\n",
      "0  ba82pLmI2zFk0ayiCQoPJQ                 sushi-uma-san-francisco   \n",
      "1  YZrl7W2dewBb-T7e-BxAkQ                    nara-san-francisco-5   \n",
      "2  l69Z6OMNKxrwA69IubLS5g  okaeri-japanese-bistro-san-francisco-3   \n",
      "3  kjckqShnIlDeraGJM3Nw4w              o-toro-sushi-san-francisco   \n",
      "4  4GAsfSjaB1XewzS3TKOtTg                       koo-san-francisco   \n",
      "\n",
      "                     name                                          image_url  \\\n",
      "0               Sushi Uma  https://s3-media2.fl.yelpcdn.com/bphoto/7HcvVu...   \n",
      "1                    Nara  https://s3-media1.fl.yelpcdn.com/bphoto/bY-Sms...   \n",
      "2  Okaeri Japanese Bistro  https://s3-media3.fl.yelpcdn.com/bphoto/ma2NK0...   \n",
      "3            O-Toro Sushi  https://s3-media1.fl.yelpcdn.com/bphoto/K29jh-...   \n",
      "4                     Koo  https://s3-media1.fl.yelpcdn.com/bphoto/eY4AG9...   \n",
      "\n",
      "   is_closed                                                url  review_count  \\\n",
      "0      False  https://www.yelp.com/biz/sushi-uma-san-francis...           356   \n",
      "1      False  https://www.yelp.com/biz/nara-san-francisco-5?...           504   \n",
      "2      False  https://www.yelp.com/biz/okaeri-japanese-bistr...           171   \n",
      "3      False  https://www.yelp.com/biz/o-toro-sushi-san-fran...           907   \n",
      "4      False  https://www.yelp.com/biz/koo-san-francisco?adj...          1154   \n",
      "\n",
      "                                          categories  rating  \\\n",
      "0  [{'alias': 'sushi', 'title': 'Sushi Bars'}, {'...     4.0   \n",
      "1  [{'alias': 'japanese', 'title': 'Japanese'}, {...     4.5   \n",
      "2  [{'alias': 'sushi', 'title': 'Sushi Bars'}, {'...     4.5   \n",
      "3  [{'alias': 'japanese', 'title': 'Japanese'}, {...     4.0   \n",
      "4  [{'alias': 'japanese', 'title': 'Japanese'}, {...     4.0   \n",
      "\n",
      "                                         coordinates  \\\n",
      "0  {'latitude': 37.76365953043274, 'longitude': -...   \n",
      "1  {'latitude': 37.790889908718235, 'longitude': ...   \n",
      "2    {'latitude': 37.75839, 'longitude': -122.41955}   \n",
      "3  {'latitude': 37.774921, 'longitude': -122.422997}   \n",
      "4  {'latitude': 37.764358548011, 'longitude': -12...   \n",
      "\n",
      "               transactions price  \\\n",
      "0        [pickup, delivery]    $$   \n",
      "1  [restaurant_reservation]    $$   \n",
      "2                        []    $$   \n",
      "3        [pickup, delivery]    $$   \n",
      "4                [delivery]   $$$   \n",
      "\n",
      "                                            location         phone  \\\n",
      "0  {'address1': '2026 Irving St', 'address2': Non...  +14159689933   \n",
      "1  {'address1': '1515 Polk St', 'address2': '', '...  +14155671515   \n",
      "2  {'address1': '3515 20th St', 'address2': None,...  +14156559588   \n",
      "3  {'address1': '205 Oak St', 'address2': '', 'ad...  +14155533986   \n",
      "4  {'address1': '408 Irving St', 'address2': '', ...  +14157317077   \n",
      "\n",
      "    display_phone     distance  \n",
      "0  (415) 968-9933  3824.429327  \n",
      "1  (415) 567-1515  3602.396966  \n",
      "2  (415) 655-9588  1507.434853  \n",
      "3  (415) 553-3986  1956.686229  \n",
      "4  (415) 731-7077  2321.160714  \n"
     ]
    }
   ],
   "source": [
    "# API call to get the first page data\n",
    "results = yelp.search_query(term=term, location=location)\n",
    "total_results = results[\"total\"]\n",
    "results_per_page = 10\n",
    "n_pages = math.ceil(total_results / results_per_page)\n",
    "print(n_pages)\n",
    "\n",
    "# Loop through remaining pages to extract all results\n",
    "for page in range(1, 6):\n",
    "    time.sleep(1)  # Pause to avoid overwhelming the server\n",
    "    results = yelp.search_query(term=term, location=location, offset=page * results_per_page)\n",
    "    data.extend(results[\"businesses\"])\n",
    "    print(f\"Page {page + 1} - Extracted {len(results['businesses'])} results\")\n",
    "\n",
    "# Save the updated data to the JSON file\n",
    "with open(JSON_FILE, \"w\") as f:\n",
    "    json.dump(data, f)\n",
    "print(f\"Total of {len(data)} results saved to {JSON_FILE}\")\n",
    "\n",
    "# Compile the results into a dataframe\n",
    "df = pd.DataFrame(data)\n",
    "print(\"Dataframe created:\")\n",
    "print(df.head())"
   ]
  }
 ],
 "metadata": {
  "kernelspec": {
   "display_name": "Python (dojo-env)",
   "language": "python",
   "name": "dojo-env"
  },
  "language_info": {
   "codemirror_mode": {
    "name": "ipython",
    "version": 3
   },
   "file_extension": ".py",
   "mimetype": "text/x-python",
   "name": "python",
   "nbconvert_exporter": "python",
   "pygments_lexer": "ipython3",
   "version": "3.9.15"
  },
  "toc": {
   "base_numbering": 1,
   "nav_menu": {},
   "number_sections": true,
   "sideBar": true,
   "skip_h1_title": false,
   "title_cell": "Table of Contents",
   "title_sidebar": "Contents",
   "toc_cell": false,
   "toc_position": {},
   "toc_section_display": true,
   "toc_window_display": false
  }
 },
 "nbformat": 4,
 "nbformat_minor": 5
}
