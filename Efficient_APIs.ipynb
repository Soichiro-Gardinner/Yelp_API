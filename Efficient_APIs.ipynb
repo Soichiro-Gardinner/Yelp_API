{
  "cells": [
    {
      "cell_type": "markdown",
      "metadata": {
        "id": "view-in-github",
        "colab_type": "text"
      },
      "source": [
        "<a href=\"https://colab.research.google.com/github/Soichiro-Gardinner/Yelp_API/blob/main/Efficient_APIs.ipynb\" target=\"_parent\"><img src=\"https://colab.research.google.com/assets/colab-badge.svg\" alt=\"Open In Colab\"/></a>"
      ]
    },
    {
      "cell_type": "code",
      "execution_count": null,
      "metadata": {
        "id": "-drmj-fKMaJ8"
      },
      "outputs": [],
      "source": [
        "# Standard Imports\n",
        "import numpy as np\n",
        "import pandas as pd\n",
        "import matplotlib.pyplot as plt\n",
        "import seaborn as sns\n",
        "# Additional Imports\n",
        "import os, math, time\n",
        "import json as js\n",
        "from tqdm.notebook import tqdm_notebook"
      ]
    },
    {
      "cell_type": "code",
      "execution_count": null,
      "metadata": {
        "colab": {
          "base_uri": "https://localhost:8080/"
        },
        "id": "EHB1lhImOJJz",
        "outputId": "fd18de16-0ea3-4787-f579-e3c34b07203a"
      },
      "outputs": [
        {
          "output_type": "stream",
          "name": "stdout",
          "text": [
            "Requirement already satisfied: yelpapi in /usr/local/lib/python3.10/dist-packages (2.5.0)\n",
            "Requirement already satisfied: requests in /usr/local/lib/python3.10/dist-packages (from yelpapi) (2.27.1)\n",
            "Requirement already satisfied: urllib3<1.27,>=1.21.1 in /usr/local/lib/python3.10/dist-packages (from requests->yelpapi) (1.26.16)\n",
            "Requirement already satisfied: certifi>=2017.4.17 in /usr/local/lib/python3.10/dist-packages (from requests->yelpapi) (2023.5.7)\n",
            "Requirement already satisfied: charset-normalizer~=2.0.0 in /usr/local/lib/python3.10/dist-packages (from requests->yelpapi) (2.0.12)\n",
            "Requirement already satisfied: idna<4,>=2.5 in /usr/local/lib/python3.10/dist-packages (from requests->yelpapi) (3.4)\n"
          ]
        }
      ],
      "source": [
        "!pip install yelpapi"
      ]
    },
    {
      "cell_type": "code",
      "execution_count": null,
      "metadata": {
        "id": "kLQCvg3kOShI"
      },
      "outputs": [],
      "source": [
        "from yelpapi import YelpAPI as yalp"
      ]
    },
    {
      "cell_type": "code",
      "execution_count": null,
      "metadata": {
        "colab": {
          "base_uri": "https://localhost:8080/"
        },
        "id": "mQUpUpDdOSp4",
        "outputId": "165703a4-451e-4e12-ec48-8fa9d2093403"
      },
      "outputs": [
        {
          "output_type": "execute_result",
          "data": {
            "text/plain": [
              "dict_keys(['Key'])"
            ]
          },
          "metadata": {},
          "execution_count": 4
        }
      ],
      "source": [
        "# Load API Creadentials using Json:\n",
        "with open(\"/content/YELP_Api_Key.json\") as f:\n",
        "  login = js.load(f)\n",
        "\n",
        "login.keys()"
      ]
    },
    {
      "cell_type": "code",
      "execution_count": null,
      "metadata": {
        "id": "WUOKb85sPo7V"
      },
      "outputs": [],
      "source": [
        "# Instantiate YelpAPI Variable:\n",
        "yelp_api = yalp(login['Key'], timeout_s=5.0)"
      ]
    },
    {
      "cell_type": "code",
      "execution_count": null,
      "metadata": {
        "id": "SGB7uRq2QTf3"
      },
      "outputs": [],
      "source": [
        "# set our API call parameters\n",
        "LOCATION = 'NY,NY'\n",
        "TERM = 'Burger'"
      ]
    },
    {
      "cell_type": "code",
      "execution_count": null,
      "metadata": {
        "colab": {
          "base_uri": "https://localhost:8080/",
          "height": 36
        },
        "id": "j-pmFck8QbvR",
        "outputId": "d042a806-c45d-40c5-c52b-ba735cd93873"
      },
      "outputs": [
        {
          "output_type": "execute_result",
          "data": {
            "text/plain": [
              "'/content/results_in_progress_NY_Burgers.json'"
            ],
            "application/vnd.google.colaboratory.intrinsic+json": {
              "type": "string"
            }
          },
          "metadata": {},
          "execution_count": 7
        }
      ],
      "source": [
        "# Specifying JSON_FILE filename (can include a folder)\n",
        "# include the search terms in the filename\n",
        "JSON_FILE = \"/content/results_in_progress_NY_Burgers.json\"\n",
        "JSON_FILE"
      ]
    },
    {
      "cell_type": "code",
      "execution_count": null,
      "metadata": {
        "colab": {
          "base_uri": "https://localhost:8080/"
        },
        "id": "_2OsSuVcRjB-",
        "outputId": "62c857b2-896f-417c-ba7b-39b9ae68efd5"
      },
      "outputs": [
        {
          "output_type": "stream",
          "name": "stdout",
          "text": [
            "[i] /content/results_in_progress_NY_Burgers.json not found. Saving empty list to file.\n"
          ]
        }
      ],
      "source": [
        "## Check if Json file exists:\n",
        "file_exists = os.path.isfile(JSON_FILE) #The os module checks if the file exists\n",
        "## If it does not exist:\n",
        "if file_exists == False:\n",
        "  ## Create Any Needed Folders:\n",
        "  # Get the Foldr Name Only\n",
        "  Folder = os.path.dirname(JSON_FILE)\n",
        "  ## If json file included a folder:\n",
        "  if len(Folder)>0:\n",
        "    # Create the folder:\n",
        "    os.makedirs(Folder,exist_ok=True)\n",
        "  print(f\"[i] {JSON_FILE} not found. Saving empty list to file.\")\n",
        "\n",
        "  # Save an Empty list:\n",
        "  with open(JSON_FILE,\"w\") as f:\n",
        "    js.dump([],f)\n",
        "  # If it Exists, inform user\n",
        "else:\n",
        "  print(f\"[i]{JSON_FILE} already exists.\")"
      ]
    },
    {
      "cell_type": "code",
      "execution_count": null,
      "metadata": {
        "colab": {
          "base_uri": "https://localhost:8080/"
        },
        "id": "IHdUAkJTWgYG",
        "outputId": "8e044270-61c2-4caf-a8c4-5b548f977765"
      },
      "outputs": [
        {
          "output_type": "stream",
          "name": "stdout",
          "text": [
            "- 0 previous results found.\n"
          ]
        }
      ],
      "source": [
        "## Load previous results and use len of results for offset\n",
        "with open(JSON_FILE, \"r\") as f:\n",
        "  previous_results = js.load(f)\n",
        "\n",
        "## set offset based on previous result:\n",
        "n_results = len(previous_results)\n",
        "print(f\"- {n_results} previous results found.\")"
      ]
    },
    {
      "cell_type": "code",
      "execution_count": null,
      "metadata": {
        "colab": {
          "base_uri": "https://localhost:8080/"
        },
        "id": "gtstdGpiQDhZ",
        "outputId": "7a64b5e3-7372-4e5a-ae29-b73260e7360f"
      },
      "outputs": [
        {
          "output_type": "execute_result",
          "data": {
            "text/plain": [
              "dict_keys(['businesses', 'total', 'region'])"
            ]
          },
          "metadata": {},
          "execution_count": 10
        }
      ],
      "source": [
        "results = yelp_api.search_query(location = LOCATION\n",
        "                            ,term = TERM,\n",
        "                            offset= n_results)\n",
        "results.keys()"
      ]
    },
    {
      "cell_type": "code",
      "execution_count": null,
      "metadata": {
        "colab": {
          "base_uri": "https://localhost:8080/"
        },
        "id": "Xj8GQxRMSt9M",
        "outputId": "520ff824-98d4-4377-f28c-1aa35169c1c9"
      },
      "outputs": [
        {
          "output_type": "execute_result",
          "data": {
            "text/plain": [
              "16900"
            ]
          },
          "metadata": {},
          "execution_count": 11
        }
      ],
      "source": [
        "## How many results total?\n",
        "total_results = results['total']\n",
        "total_results"
      ]
    },
    {
      "cell_type": "code",
      "execution_count": null,
      "metadata": {
        "colab": {
          "base_uri": "https://localhost:8080/"
        },
        "id": "-jFSxQyOS87l",
        "outputId": "40f509ad-4859-4d98-be39-19adcbfe85de"
      },
      "outputs": [
        {
          "output_type": "execute_result",
          "data": {
            "text/plain": [
              "20"
            ]
          },
          "metadata": {},
          "execution_count": 12
        }
      ],
      "source": [
        "## How many did we get the details for?\n",
        "results_per_page = len(results['businesses'])\n",
        "results_per_page"
      ]
    },
    {
      "cell_type": "code",
      "execution_count": null,
      "metadata": {
        "colab": {
          "base_uri": "https://localhost:8080/"
        },
        "id": "eKEZwZfCTUM_",
        "outputId": "8e0f6b38-fea5-4f3e-99c9-b4934102a9b9"
      },
      "outputs": [
        {
          "output_type": "execute_result",
          "data": {
            "text/plain": [
              "845"
            ]
          },
          "metadata": {},
          "execution_count": 13
        }
      ],
      "source": [
        "# Import additional packages for controlling our loop\n",
        "import time, math\n",
        "# Use math.ceil to round up for the total number of pages of results.\n",
        "n_pages = math.ceil((results['total']-n_results)/ results_per_page)\n",
        "n_pages"
      ]
    },
    {
      "cell_type": "code",
      "execution_count": null,
      "metadata": {
        "id": "32qS3yUPm-DC"
      },
      "outputs": [],
      "source": [
        "# Add the new results to the old list by using .extend()\n",
        "previous_results.extend(results[\"businesses\"])\n",
        "with open (JSON_FILE, \"w\") as f:\n",
        "  js.dump(previous_results, f)"
      ]
    },
    {
      "cell_type": "markdown",
      "metadata": {
        "id": "LGKM98s9nimu"
      },
      "source": [
        "**For Loop to call and concatenate each page:**"
      ]
    },
    {
      "cell_type": "code",
      "execution_count": null,
      "metadata": {
        "colab": {
          "base_uri": "https://localhost:8080/",
          "height": 412,
          "referenced_widgets": [
            "6f099cb1420644e598b7ff903ad1cda7",
            "036447fe77a740ae940df2cea3295e78",
            "09d959300ba24af5b998c29208e8e502",
            "c08b7605ebbc416aa1da2a8e66857e48",
            "96c51f87d3624589be2bfdcb60aef83d",
            "c5aa1d7442b9416987746f4335741b3c",
            "173f340cdd1644a484ede1dec3c2d450",
            "be72682e137046c68e1ef8358865f6b7",
            "98c14b11658b4f958627a33b57a04c1f",
            "c6d258c26d4f4fc1ace3f0d0562cbb38",
            "38e637c9bc96437baf9e357a88d5c4a2"
          ]
        },
        "id": "u-cZg5BmnqBU",
        "outputId": "cb187ebe-b977-4467-bf31-caceb7739700"
      },
      "outputs": [
        {
          "output_type": "display_data",
          "data": {
            "text/plain": [
              "  0%|          | 0/845 [00:00<?, ?it/s]"
            ],
            "application/vnd.jupyter.widget-view+json": {
              "version_major": 2,
              "version_minor": 0,
              "model_id": "6f099cb1420644e598b7ff903ad1cda7"
            }
          },
          "metadata": {}
        },
        {
          "output_type": "error",
          "ename": "YelpAPIError",
          "evalue": "ignored",
          "traceback": [
            "\u001b[0;31m---------------------------------------------------------------------------\u001b[0m",
            "\u001b[0;31mYelpAPIError\u001b[0m                              Traceback (most recent call last)",
            "\u001b[0;32m<ipython-input-15-c19eb5ce699a>\u001b[0m in \u001b[0;36m<cell line: 1>\u001b[0;34m()\u001b[0m\n\u001b[1;32m      7\u001b[0m     \u001b[0mn_results\u001b[0m \u001b[0;34m=\u001b[0m \u001b[0mlen\u001b[0m\u001b[0;34m(\u001b[0m\u001b[0mprevious_results\u001b[0m\u001b[0;34m)\u001b[0m\u001b[0;34m\u001b[0m\u001b[0;34m\u001b[0m\u001b[0m\n\u001b[1;32m      8\u001b[0m     \u001b[0;31m## use n_results as the OFFSET\u001b[0m\u001b[0;34m\u001b[0m\u001b[0;34m\u001b[0m\u001b[0m\n\u001b[0;32m----> 9\u001b[0;31m     results = yelp_api.search_query(location=LOCATION,\n\u001b[0m\u001b[1;32m     10\u001b[0m                                     \u001b[0mterm\u001b[0m\u001b[0;34m=\u001b[0m\u001b[0mTERM\u001b[0m\u001b[0;34m,\u001b[0m\u001b[0;34m\u001b[0m\u001b[0;34m\u001b[0m\u001b[0m\n\u001b[1;32m     11\u001b[0m                                     offset=n_results)\n",
            "\u001b[0;32m/usr/local/lib/python3.10/dist-packages/yelpapi/yelpapi.py\u001b[0m in \u001b[0;36msearch_query\u001b[0;34m(self, **kwargs)\u001b[0m\n\u001b[1;32m    249\u001b[0m                              '(parameters \"latitude\" and \"longitude\") must be provided.')\n\u001b[1;32m    250\u001b[0m \u001b[0;34m\u001b[0m\u001b[0m\n\u001b[0;32m--> 251\u001b[0;31m         \u001b[0;32mreturn\u001b[0m \u001b[0mself\u001b[0m\u001b[0;34m.\u001b[0m\u001b[0m_query\u001b[0m\u001b[0;34m(\u001b[0m\u001b[0mSEARCH_API_URL\u001b[0m\u001b[0;34m,\u001b[0m \u001b[0;34m**\u001b[0m\u001b[0mkwargs\u001b[0m\u001b[0;34m)\u001b[0m\u001b[0;34m\u001b[0m\u001b[0;34m\u001b[0m\u001b[0m\n\u001b[0m\u001b[1;32m    252\u001b[0m \u001b[0;34m\u001b[0m\u001b[0m\n\u001b[1;32m    253\u001b[0m     \u001b[0;32mdef\u001b[0m \u001b[0mtransaction_search_query\u001b[0m\u001b[0;34m(\u001b[0m\u001b[0mself\u001b[0m\u001b[0;34m,\u001b[0m \u001b[0mtransaction_type\u001b[0m\u001b[0;34m,\u001b[0m \u001b[0;34m**\u001b[0m\u001b[0mkwargs\u001b[0m\u001b[0;34m)\u001b[0m\u001b[0;34m:\u001b[0m\u001b[0;34m\u001b[0m\u001b[0;34m\u001b[0m\u001b[0m\n",
            "\u001b[0;32m/usr/local/lib/python3.10/dist-packages/yelpapi/yelpapi.py\u001b[0m in \u001b[0;36m_query\u001b[0;34m(self, url, **kwargs)\u001b[0m\n\u001b[1;32m    297\u001b[0m         \u001b[0;31m# https://github.com/Yelp/yelp-fusion/issues/95 for more info.\u001b[0m\u001b[0;34m\u001b[0m\u001b[0;34m\u001b[0m\u001b[0m\n\u001b[1;32m    298\u001b[0m         \u001b[0;32mif\u001b[0m \u001b[0;34m'error'\u001b[0m \u001b[0;32min\u001b[0m \u001b[0mresponse_json\u001b[0m\u001b[0;34m:\u001b[0m\u001b[0;34m\u001b[0m\u001b[0;34m\u001b[0m\u001b[0m\n\u001b[0;32m--> 299\u001b[0;31m             raise YelpAPI.YelpAPIError('{}: {}'.format(response_json['error']['code'],\n\u001b[0m\u001b[1;32m    300\u001b[0m                                                        response_json['error']['description']))\n\u001b[1;32m    301\u001b[0m \u001b[0;34m\u001b[0m\u001b[0m\n",
            "\u001b[0;31mYelpAPIError\u001b[0m: VALIDATION_ERROR: Too many results requested, limit+offset must be <= 1000."
          ]
        }
      ],
      "source": [
        "for i in tqdm_notebook( range(1,n_pages+1)):\n",
        "\n",
        "    ## Read in results in progress file and check the length\n",
        "    with open(JSON_FILE, 'r') as f:\n",
        "        previous_results = js.load(f)\n",
        "    ## save number of results for to use as offset\n",
        "    n_results = len(previous_results)\n",
        "    ## use n_results as the OFFSET\n",
        "    results = yelp_api.search_query(location=LOCATION,\n",
        "                                    term=TERM,\n",
        "                                    offset=n_results)\n",
        "\n",
        "    ## append new results and save to file\n",
        "    previous_results.extend(results['businesses'])\n",
        "\n",
        "    with open(JSON_FILE,'w') as f:\n",
        "        js.dump(previous_results,f)\n",
        "\n",
        "    # add a 200ms pause\n",
        "    time.sleep(.2)"
      ]
    },
    {
      "cell_type": "code",
      "execution_count": null,
      "metadata": {
        "colab": {
          "base_uri": "https://localhost:8080/"
        },
        "id": "cppaqAbBrvOb",
        "outputId": "86e426be-5801-48e0-e7cb-fdeaddd37693"
      },
      "outputs": [
        {
          "output_type": "execute_result",
          "data": {
            "text/plain": [
              "1020"
            ]
          },
          "metadata": {},
          "execution_count": 16
        }
      ],
      "source": [
        "a = n_results + results_per_page\n",
        "a"
      ]
    },
    {
      "cell_type": "markdown",
      "metadata": {
        "id": "iVOzgQzOxUq_"
      },
      "source": [
        "**Function From the dojo to delete the JSON_FILE if it exists.**"
      ]
    },
    {
      "cell_type": "code",
      "execution_count": null,
      "metadata": {
        "id": "mWaF0c2gwJ9w"
      },
      "outputs": [],
      "source": [
        "# This efficient Fubction takes a file as the 1st parameter to\n",
        "## Check its existence on the folde, and a boolean variable to determine if\n",
        "### we want to delete our files or not.\n",
        "\n",
        "def create_json_file(FILE,  delete_if_exists=False):\n",
        "\n",
        "    ## Check if FILE exists\n",
        "    file_exists = os.path.isfile(FILE)\n",
        "\n",
        "    ## If it DOES exist:\n",
        "    if file_exists == True:\n",
        "\n",
        "        ## Check if user wants to delete if exists\n",
        "        if delete_if_exists==True:\n",
        "\n",
        "            print(f\"[!] {FILE} already exists. Deleting previous file...\")\n",
        "            ## delete file and confirm it no longer exits.\n",
        "            os.remove(FILE)\n",
        "            # Recursive call to function after old file deleted\n",
        "            create_json_file(FILE,delete_if_exists=False)\n",
        "        else:\n",
        "            print(f\"[i] {FILE} already exists.\")\n",
        "\n",
        "\n",
        "    ## If it does NOT exist:\n",
        "    else:\n",
        "\n",
        "        ## INFORM USER AND SAVE EMPTY LIST\n",
        "        print(f\"[i] {FILE} not found. Saving empty list to new file.\")\n",
        "\n",
        "        ## CREATE ANY NEEDED FOLDERS\n",
        "        # Get the Folder Name only\n",
        "        folder = os.path.dirname(FILE)\n",
        "\n",
        "        ## If FILE included a folder:\n",
        "        if len(folder)>0:\n",
        "            # create the folder\n",
        "            os.makedirs(folder,exist_ok=True)\n",
        "        ## Save empty list to start the json file\n",
        "        with open(FILE,'w') as f:\n",
        "            js.dump([],f)"
      ]
    },
    {
      "cell_type": "code",
      "execution_count": null,
      "metadata": {
        "colab": {
          "base_uri": "https://localhost:8080/"
        },
        "id": "Ctr-g2e5yHj7",
        "outputId": "f512affc-6595-4df3-ab53-47ae347f472a"
      },
      "outputs": [
        {
          "output_type": "stream",
          "name": "stdout",
          "text": [
            "[!] /content/results_in_progress_NY_Burgers.json already exists. Deleting previous file...\n",
            "[i] /content/results_in_progress_NY_Burgers.json not found. Saving empty list to new file.\n",
            "- 0 previous results found.\n",
            "\n",
            "Total Number of Pages: 875\n",
            "[]\n"
          ]
        }
      ],
      "source": [
        "## Create a new empty json file (exist the previous if it exists)\n",
        "create_json_file(JSON_FILE, delete_if_exists=True)\n",
        "## Load previous results and use len of results for offset\n",
        "with open(JSON_FILE,'r') as f:\n",
        "    previous_results = js.load(f)\n",
        "\n",
        "## set offset based on previous results\n",
        "n_results = len(previous_results)\n",
        "print(f'- {n_results} previous results found.')\n",
        "# use our yelp_api variable's search_query method to perform our API call\n",
        "results = yelp_api.search_query(location=LOCATION,\n",
        "                                term=TERM,\n",
        "                               offset=n_results)\n",
        "## How many results total?\n",
        "total_results = results['total']\n",
        "## How many did we get the details for?\n",
        "results_per_page = len(results['businesses'])\n",
        "# Use math.ceil to round up for the total number of pages of results.\n",
        "n_pages = math.ceil((results['total']-n_results)/ results_per_page)\n",
        "print(f\"\\nTotal Number of Pages: {n_pages}\")\n",
        "print(previous_results)\n",
        "\n"
      ]
    },
    {
      "cell_type": "markdown",
      "metadata": {
        "id": "hyMu_E9AyRMp"
      },
      "source": [
        "- Note How this Time we got an 885 this time instead of 885 from our 'n_pages' varianble."
      ]
    },
    {
      "cell_type": "markdown",
      "metadata": {
        "id": "Ae94cN66y7WX"
      },
      "source": [
        "### **Loop to check if we exceed the limit and stop before we get an error.**"
      ]
    },
    {
      "cell_type": "code",
      "execution_count": null,
      "metadata": {
        "colab": {
          "base_uri": "https://localhost:8080/",
          "height": 66,
          "referenced_widgets": [
            "1d7faef5921647209a266ceea5c46383",
            "8d2f1549100d48c7a03c0588de16ff42",
            "1f6c012959c34856b7986d5c1c6aad6c",
            "dec42c441bfa49279b193969cb15ab5f",
            "f851764a193843269ef5d9d7a2dfc053",
            "d2bdadc35c9843808c11dab7e1e49265",
            "a7314ff3488e43cf89353acc48dfa5cd",
            "424afff96c3e4daba8d656192c8b9fa4",
            "9294b390097f46549c60c4f8c8fb4bd3",
            "fc0f18a007b64046806603c0bf76c974",
            "50075824141f4e00b42a79d20b2481cc"
          ]
        },
        "id": "6CSonacsyzxd",
        "outputId": "894e4c59-2418-45a2-f3dc-d5fc947ea21e"
      },
      "outputs": [
        {
          "output_type": "display_data",
          "data": {
            "text/plain": [
              "  0%|          | 0/875 [00:00<?, ?it/s]"
            ],
            "application/vnd.jupyter.widget-view+json": {
              "version_major": 2,
              "version_minor": 0,
              "model_id": "1d7faef5921647209a266ceea5c46383"
            }
          },
          "metadata": {}
        },
        {
          "output_type": "stream",
          "name": "stdout",
          "text": [
            "Exceeded 1000 api calls. Stopping loop.\n"
          ]
        }
      ],
      "source": [
        "for i in tqdm_notebook( range(1,n_pages+1)):\n",
        "\n",
        "    ## Read in results in progress file and check the length\n",
        "    with open(JSON_FILE, 'r') as f:\n",
        "        previous_results = js.load(f)\n",
        "    ## save number of results for to use as offset\n",
        "    n_results = len(previous_results)\n",
        "\n",
        "    if (n_results + results_per_page) > 1000:\n",
        "        print('Exceeded 1000 api calls. Stopping loop.')\n",
        "        break\n",
        "\n",
        "    ## use n_results as the OFFSET\n",
        "    results = yelp_api.search_query(location=LOCATION,\n",
        "                                    term=TERM,\n",
        "                                    offset=n_results)\n",
        "\n",
        "\n",
        "\n",
        "    ## append new results and save to file\n",
        "    previous_results.extend(results['businesses'])\n",
        "\n",
        "    # display(previous_results)\n",
        "    with open(JSON_FILE,'w') as f:\n",
        "        js.dump(previous_results,f)\n",
        "\n",
        "    time.sleep(.2)"
      ]
    },
    {
      "cell_type": "code",
      "source": [
        "# load final results\n",
        "final_df = pd.read_json(JSON_FILE)\n",
        "display(final_df.head(), final_df.tail())"
      ],
      "metadata": {
        "colab": {
          "base_uri": "https://localhost:8080/",
          "height": 1000
        },
        "id": "F_ErkI5h9Xb-",
        "outputId": "abc14711-ca8d-4239-e301-fd8107788b29"
      },
      "execution_count": null,
      "outputs": [
        {
          "output_type": "display_data",
          "data": {
            "text/plain": [
              "                       id                              alias  \\\n",
              "0  VVYea3NzbklOyHEzSEavWw       7th-street-burger-new-york-9   \n",
              "1  8xpGj_YkI2X6QxqXUJPw7g         7th-street-burger-new-york   \n",
              "2  H26qMBb0OFNn2xmSTM1Phw  kings-of-kobe-new-york-new-york-2   \n",
              "3  9whm9oIO5baMzRtpJhzNZA                  the-york-new-york   \n",
              "4  d_EKp-q91CQQFL86I_DuBw              burgers-on-b-new-york   \n",
              "\n",
              "                       name  \\\n",
              "0         7th Street Burger   \n",
              "1         7th Street Burger   \n",
              "2  Kings of Kobe - New York   \n",
              "3                  The York   \n",
              "4              Burgers on B   \n",
              "\n",
              "                                           image_url  is_closed  \\\n",
              "0  https://s3-media1.fl.yelpcdn.com/bphoto/un0Pg-...      False   \n",
              "1  https://s3-media2.fl.yelpcdn.com/bphoto/GYqi52...      False   \n",
              "2  https://s3-media1.fl.yelpcdn.com/bphoto/E09YEC...      False   \n",
              "3  https://s3-media3.fl.yelpcdn.com/bphoto/9GKSWA...      False   \n",
              "4  https://s3-media2.fl.yelpcdn.com/bphoto/qKa4um...      False   \n",
              "\n",
              "                                                 url  review_count  \\\n",
              "0  https://www.yelp.com/biz/7th-street-burger-new...            87   \n",
              "1  https://www.yelp.com/biz/7th-street-burger-new...           287   \n",
              "2  https://www.yelp.com/biz/kings-of-kobe-new-yor...           432   \n",
              "3  https://www.yelp.com/biz/the-york-new-york?adj...             8   \n",
              "4  https://www.yelp.com/biz/burgers-on-b-new-york...            10   \n",
              "\n",
              "                                          categories  rating  \\\n",
              "0  [{'alias': 'burgers', 'title': 'Burgers'}, {'a...     4.5   \n",
              "1         [{'alias': 'burgers', 'title': 'Burgers'}]     4.5   \n",
              "2  [{'alias': 'burgers', 'title': 'Burgers'}, {'a...     4.5   \n",
              "3   [{'alias': 'gastropubs', 'title': 'Gastropubs'}]     5.0   \n",
              "4         [{'alias': 'burgers', 'title': 'Burgers'}]     4.5   \n",
              "\n",
              "                                         coordinates        transactions  \\\n",
              "0     {'latitude': 40.75238, 'longitude': -73.98939}  [delivery, pickup]   \n",
              "1     {'latitude': 40.72697, 'longitude': -73.98546}  [delivery, pickup]   \n",
              "2   {'latitude': 40.761172, 'longitude': -74.000307}  [delivery, pickup]   \n",
              "3   {'latitude': 40.727878, 'longitude': -73.979413}                  []   \n",
              "4  {'latitude': 40.727244999999996, 'longitude': ...  [delivery, pickup]   \n",
              "\n",
              "                                            location         phone  \\\n",
              "0  {'address1': '485 7th Ave', 'address2': None, ...                 \n",
              "1  {'address1': '91 E 7th St', 'address2': None, ...  +16464906797   \n",
              "2  {'address1': '650 W 42nd St', 'address2': None...  +16463705121   \n",
              "3  {'address1': '186 Avenue B', 'address2': '', '...                 \n",
              "4  {'address1': '168 Avenue B', 'address2': '', '...                 \n",
              "\n",
              "    display_phone     distance price  \n",
              "0                  5113.650606   NaN  \n",
              "1  (646) 490-6797  2280.348538    $$  \n",
              "2  (646) 370-5121  6283.378163    $$  \n",
              "3                  2322.545322   NaN  \n",
              "4                  2256.950452   NaN  "
            ],
            "text/html": [
              "\n",
              "  <div id=\"df-3065ee29-7514-40f5-9b73-3609f8ff4e92\">\n",
              "    <div class=\"colab-df-container\">\n",
              "      <div>\n",
              "<style scoped>\n",
              "    .dataframe tbody tr th:only-of-type {\n",
              "        vertical-align: middle;\n",
              "    }\n",
              "\n",
              "    .dataframe tbody tr th {\n",
              "        vertical-align: top;\n",
              "    }\n",
              "\n",
              "    .dataframe thead th {\n",
              "        text-align: right;\n",
              "    }\n",
              "</style>\n",
              "<table border=\"1\" class=\"dataframe\">\n",
              "  <thead>\n",
              "    <tr style=\"text-align: right;\">\n",
              "      <th></th>\n",
              "      <th>id</th>\n",
              "      <th>alias</th>\n",
              "      <th>name</th>\n",
              "      <th>image_url</th>\n",
              "      <th>is_closed</th>\n",
              "      <th>url</th>\n",
              "      <th>review_count</th>\n",
              "      <th>categories</th>\n",
              "      <th>rating</th>\n",
              "      <th>coordinates</th>\n",
              "      <th>transactions</th>\n",
              "      <th>location</th>\n",
              "      <th>phone</th>\n",
              "      <th>display_phone</th>\n",
              "      <th>distance</th>\n",
              "      <th>price</th>\n",
              "    </tr>\n",
              "  </thead>\n",
              "  <tbody>\n",
              "    <tr>\n",
              "      <th>0</th>\n",
              "      <td>VVYea3NzbklOyHEzSEavWw</td>\n",
              "      <td>7th-street-burger-new-york-9</td>\n",
              "      <td>7th Street Burger</td>\n",
              "      <td>https://s3-media1.fl.yelpcdn.com/bphoto/un0Pg-...</td>\n",
              "      <td>False</td>\n",
              "      <td>https://www.yelp.com/biz/7th-street-burger-new...</td>\n",
              "      <td>87</td>\n",
              "      <td>[{'alias': 'burgers', 'title': 'Burgers'}, {'a...</td>\n",
              "      <td>4.5</td>\n",
              "      <td>{'latitude': 40.75238, 'longitude': -73.98939}</td>\n",
              "      <td>[delivery, pickup]</td>\n",
              "      <td>{'address1': '485 7th Ave', 'address2': None, ...</td>\n",
              "      <td></td>\n",
              "      <td></td>\n",
              "      <td>5113.650606</td>\n",
              "      <td>NaN</td>\n",
              "    </tr>\n",
              "    <tr>\n",
              "      <th>1</th>\n",
              "      <td>8xpGj_YkI2X6QxqXUJPw7g</td>\n",
              "      <td>7th-street-burger-new-york</td>\n",
              "      <td>7th Street Burger</td>\n",
              "      <td>https://s3-media2.fl.yelpcdn.com/bphoto/GYqi52...</td>\n",
              "      <td>False</td>\n",
              "      <td>https://www.yelp.com/biz/7th-street-burger-new...</td>\n",
              "      <td>287</td>\n",
              "      <td>[{'alias': 'burgers', 'title': 'Burgers'}]</td>\n",
              "      <td>4.5</td>\n",
              "      <td>{'latitude': 40.72697, 'longitude': -73.98546}</td>\n",
              "      <td>[delivery, pickup]</td>\n",
              "      <td>{'address1': '91 E 7th St', 'address2': None, ...</td>\n",
              "      <td>+16464906797</td>\n",
              "      <td>(646) 490-6797</td>\n",
              "      <td>2280.348538</td>\n",
              "      <td>$$</td>\n",
              "    </tr>\n",
              "    <tr>\n",
              "      <th>2</th>\n",
              "      <td>H26qMBb0OFNn2xmSTM1Phw</td>\n",
              "      <td>kings-of-kobe-new-york-new-york-2</td>\n",
              "      <td>Kings of Kobe - New York</td>\n",
              "      <td>https://s3-media1.fl.yelpcdn.com/bphoto/E09YEC...</td>\n",
              "      <td>False</td>\n",
              "      <td>https://www.yelp.com/biz/kings-of-kobe-new-yor...</td>\n",
              "      <td>432</td>\n",
              "      <td>[{'alias': 'burgers', 'title': 'Burgers'}, {'a...</td>\n",
              "      <td>4.5</td>\n",
              "      <td>{'latitude': 40.761172, 'longitude': -74.000307}</td>\n",
              "      <td>[delivery, pickup]</td>\n",
              "      <td>{'address1': '650 W 42nd St', 'address2': None...</td>\n",
              "      <td>+16463705121</td>\n",
              "      <td>(646) 370-5121</td>\n",
              "      <td>6283.378163</td>\n",
              "      <td>$$</td>\n",
              "    </tr>\n",
              "    <tr>\n",
              "      <th>3</th>\n",
              "      <td>9whm9oIO5baMzRtpJhzNZA</td>\n",
              "      <td>the-york-new-york</td>\n",
              "      <td>The York</td>\n",
              "      <td>https://s3-media3.fl.yelpcdn.com/bphoto/9GKSWA...</td>\n",
              "      <td>False</td>\n",
              "      <td>https://www.yelp.com/biz/the-york-new-york?adj...</td>\n",
              "      <td>8</td>\n",
              "      <td>[{'alias': 'gastropubs', 'title': 'Gastropubs'}]</td>\n",
              "      <td>5.0</td>\n",
              "      <td>{'latitude': 40.727878, 'longitude': -73.979413}</td>\n",
              "      <td>[]</td>\n",
              "      <td>{'address1': '186 Avenue B', 'address2': '', '...</td>\n",
              "      <td></td>\n",
              "      <td></td>\n",
              "      <td>2322.545322</td>\n",
              "      <td>NaN</td>\n",
              "    </tr>\n",
              "    <tr>\n",
              "      <th>4</th>\n",
              "      <td>d_EKp-q91CQQFL86I_DuBw</td>\n",
              "      <td>burgers-on-b-new-york</td>\n",
              "      <td>Burgers on B</td>\n",
              "      <td>https://s3-media2.fl.yelpcdn.com/bphoto/qKa4um...</td>\n",
              "      <td>False</td>\n",
              "      <td>https://www.yelp.com/biz/burgers-on-b-new-york...</td>\n",
              "      <td>10</td>\n",
              "      <td>[{'alias': 'burgers', 'title': 'Burgers'}]</td>\n",
              "      <td>4.5</td>\n",
              "      <td>{'latitude': 40.727244999999996, 'longitude': ...</td>\n",
              "      <td>[delivery, pickup]</td>\n",
              "      <td>{'address1': '168 Avenue B', 'address2': '', '...</td>\n",
              "      <td></td>\n",
              "      <td></td>\n",
              "      <td>2256.950452</td>\n",
              "      <td>NaN</td>\n",
              "    </tr>\n",
              "  </tbody>\n",
              "</table>\n",
              "</div>\n",
              "      <button class=\"colab-df-convert\" onclick=\"convertToInteractive('df-3065ee29-7514-40f5-9b73-3609f8ff4e92')\"\n",
              "              title=\"Convert this dataframe to an interactive table.\"\n",
              "              style=\"display:none;\">\n",
              "        \n",
              "  <svg xmlns=\"http://www.w3.org/2000/svg\" height=\"24px\"viewBox=\"0 0 24 24\"\n",
              "       width=\"24px\">\n",
              "    <path d=\"M0 0h24v24H0V0z\" fill=\"none\"/>\n",
              "    <path d=\"M18.56 5.44l.94 2.06.94-2.06 2.06-.94-2.06-.94-.94-2.06-.94 2.06-2.06.94zm-11 1L8.5 8.5l.94-2.06 2.06-.94-2.06-.94L8.5 2.5l-.94 2.06-2.06.94zm10 10l.94 2.06.94-2.06 2.06-.94-2.06-.94-.94-2.06-.94 2.06-2.06.94z\"/><path d=\"M17.41 7.96l-1.37-1.37c-.4-.4-.92-.59-1.43-.59-.52 0-1.04.2-1.43.59L10.3 9.45l-7.72 7.72c-.78.78-.78 2.05 0 2.83L4 21.41c.39.39.9.59 1.41.59.51 0 1.02-.2 1.41-.59l7.78-7.78 2.81-2.81c.8-.78.8-2.07 0-2.86zM5.41 20L4 18.59l7.72-7.72 1.47 1.35L5.41 20z\"/>\n",
              "  </svg>\n",
              "      </button>\n",
              "      \n",
              "  <style>\n",
              "    .colab-df-container {\n",
              "      display:flex;\n",
              "      flex-wrap:wrap;\n",
              "      gap: 12px;\n",
              "    }\n",
              "\n",
              "    .colab-df-convert {\n",
              "      background-color: #E8F0FE;\n",
              "      border: none;\n",
              "      border-radius: 50%;\n",
              "      cursor: pointer;\n",
              "      display: none;\n",
              "      fill: #1967D2;\n",
              "      height: 32px;\n",
              "      padding: 0 0 0 0;\n",
              "      width: 32px;\n",
              "    }\n",
              "\n",
              "    .colab-df-convert:hover {\n",
              "      background-color: #E2EBFA;\n",
              "      box-shadow: 0px 1px 2px rgba(60, 64, 67, 0.3), 0px 1px 3px 1px rgba(60, 64, 67, 0.15);\n",
              "      fill: #174EA6;\n",
              "    }\n",
              "\n",
              "    [theme=dark] .colab-df-convert {\n",
              "      background-color: #3B4455;\n",
              "      fill: #D2E3FC;\n",
              "    }\n",
              "\n",
              "    [theme=dark] .colab-df-convert:hover {\n",
              "      background-color: #434B5C;\n",
              "      box-shadow: 0px 1px 3px 1px rgba(0, 0, 0, 0.15);\n",
              "      filter: drop-shadow(0px 1px 2px rgba(0, 0, 0, 0.3));\n",
              "      fill: #FFFFFF;\n",
              "    }\n",
              "  </style>\n",
              "\n",
              "      <script>\n",
              "        const buttonEl =\n",
              "          document.querySelector('#df-3065ee29-7514-40f5-9b73-3609f8ff4e92 button.colab-df-convert');\n",
              "        buttonEl.style.display =\n",
              "          google.colab.kernel.accessAllowed ? 'block' : 'none';\n",
              "\n",
              "        async function convertToInteractive(key) {\n",
              "          const element = document.querySelector('#df-3065ee29-7514-40f5-9b73-3609f8ff4e92');\n",
              "          const dataTable =\n",
              "            await google.colab.kernel.invokeFunction('convertToInteractive',\n",
              "                                                     [key], {});\n",
              "          if (!dataTable) return;\n",
              "\n",
              "          const docLinkHtml = 'Like what you see? Visit the ' +\n",
              "            '<a target=\"_blank\" href=https://colab.research.google.com/notebooks/data_table.ipynb>data table notebook</a>'\n",
              "            + ' to learn more about interactive tables.';\n",
              "          element.innerHTML = '';\n",
              "          dataTable['output_type'] = 'display_data';\n",
              "          await google.colab.output.renderOutput(dataTable, element);\n",
              "          const docLink = document.createElement('div');\n",
              "          docLink.innerHTML = docLinkHtml;\n",
              "          element.appendChild(docLink);\n",
              "        }\n",
              "      </script>\n",
              "    </div>\n",
              "  </div>\n",
              "  "
            ]
          },
          "metadata": {}
        },
        {
          "output_type": "display_data",
          "data": {
            "text/plain": [
              "                         id                   alias           name  \\\n",
              "995  n9uh27lhZp41ARuHCaKGHQ           dips-brooklyn           Dips   \n",
              "996  0AoaUlXkQOlalpA3v-Ivqw  lava-shawarma-new-york  Lava Shawarma   \n",
              "997  RbMC9zD11aB3kgrXi6O3BQ    the-narrows-brooklyn    The Narrows   \n",
              "998  OefJvbJxLW1ZTr-8HUZdyQ     the-grotto-brooklyn     The Grotto   \n",
              "999  owvn3TwI2oweLWh4D7strA   comfortland-astoria-2    Comfortland   \n",
              "\n",
              "                                             image_url  is_closed  \\\n",
              "995  https://s3-media1.fl.yelpcdn.com/bphoto/gzjl49...      False   \n",
              "996  https://s3-media3.fl.yelpcdn.com/bphoto/CzE3dW...      False   \n",
              "997  https://s3-media3.fl.yelpcdn.com/bphoto/gYIlra...      False   \n",
              "998  https://s3-media2.fl.yelpcdn.com/bphoto/2Sp25o...      False   \n",
              "999  https://s3-media2.fl.yelpcdn.com/bphoto/bkJWAQ...      False   \n",
              "\n",
              "                                                   url  review_count  \\\n",
              "995  https://www.yelp.com/biz/dips-brooklyn?adjust_...             9   \n",
              "996  https://www.yelp.com/biz/lava-shawarma-new-yor...           226   \n",
              "997  https://www.yelp.com/biz/the-narrows-brooklyn?...           188   \n",
              "998  https://www.yelp.com/biz/the-grotto-brooklyn?a...            29   \n",
              "999  https://www.yelp.com/biz/comfortland-astoria-2...           326   \n",
              "\n",
              "                                            categories  rating  \\\n",
              "995  [{'alias': 'salad', 'title': 'Salad'}, {'alias...     4.0   \n",
              "996  [{'alias': 'mediterranean', 'title': 'Mediterr...     4.5   \n",
              "997  [{'alias': 'bars', 'title': 'Bars'}, {'alias':...     4.0   \n",
              "998  [{'alias': 'caribbean', 'title': 'Caribbean'},...     3.5   \n",
              "999  [{'alias': 'donuts', 'title': 'Donuts'}, {'ali...     4.0   \n",
              "\n",
              "                                           coordinates        transactions  \\\n",
              "995  {'latitude': 40.6322899, 'longitude': -73.9945...          [delivery]   \n",
              "996     {'latitude': 40.71964, 'longitude': -73.98507}  [delivery, pickup]   \n",
              "997   {'latitude': 40.704114, 'longitude': -73.930878}          [delivery]   \n",
              "998     {'latitude': 40.68734, 'longitude': -73.95083}  [delivery, pickup]   \n",
              "999   {'latitude': 40.763865, 'longitude': -73.914546}  [delivery, pickup]   \n",
              "\n",
              "                                              location         phone  \\\n",
              "995  {'address1': '5315 13th Ave', 'address2': '', ...  +17184352411   \n",
              "996  {'address1': '57 Clinton St', 'address2': '', ...  +16465594250   \n",
              "997  {'address1': '1037 Flushing Ave', 'address2': ...  +12818271800   \n",
              "998  {'address1': '321 Nostrand Ave', 'address2': '...  +13472953446   \n",
              "999  {'address1': '40-09 30th Ave', 'address2': '',...  +13476429932   \n",
              "\n",
              "      display_phone     distance price  \n",
              "995  (718) 435-2411  8404.009543    $$  \n",
              "996  (646) 559-4250  1493.250393     $  \n",
              "997  (281) 827-1800  4084.570644    $$  \n",
              "998  (347) 295-3446  3237.823588   NaN  \n",
              "999  (347) 642-9932  8347.206960    $$  "
            ],
            "text/html": [
              "\n",
              "  <div id=\"df-74fe275b-30e9-47c9-836b-69976ed537ce\">\n",
              "    <div class=\"colab-df-container\">\n",
              "      <div>\n",
              "<style scoped>\n",
              "    .dataframe tbody tr th:only-of-type {\n",
              "        vertical-align: middle;\n",
              "    }\n",
              "\n",
              "    .dataframe tbody tr th {\n",
              "        vertical-align: top;\n",
              "    }\n",
              "\n",
              "    .dataframe thead th {\n",
              "        text-align: right;\n",
              "    }\n",
              "</style>\n",
              "<table border=\"1\" class=\"dataframe\">\n",
              "  <thead>\n",
              "    <tr style=\"text-align: right;\">\n",
              "      <th></th>\n",
              "      <th>id</th>\n",
              "      <th>alias</th>\n",
              "      <th>name</th>\n",
              "      <th>image_url</th>\n",
              "      <th>is_closed</th>\n",
              "      <th>url</th>\n",
              "      <th>review_count</th>\n",
              "      <th>categories</th>\n",
              "      <th>rating</th>\n",
              "      <th>coordinates</th>\n",
              "      <th>transactions</th>\n",
              "      <th>location</th>\n",
              "      <th>phone</th>\n",
              "      <th>display_phone</th>\n",
              "      <th>distance</th>\n",
              "      <th>price</th>\n",
              "    </tr>\n",
              "  </thead>\n",
              "  <tbody>\n",
              "    <tr>\n",
              "      <th>995</th>\n",
              "      <td>n9uh27lhZp41ARuHCaKGHQ</td>\n",
              "      <td>dips-brooklyn</td>\n",
              "      <td>Dips</td>\n",
              "      <td>https://s3-media1.fl.yelpcdn.com/bphoto/gzjl49...</td>\n",
              "      <td>False</td>\n",
              "      <td>https://www.yelp.com/biz/dips-brooklyn?adjust_...</td>\n",
              "      <td>9</td>\n",
              "      <td>[{'alias': 'salad', 'title': 'Salad'}, {'alias...</td>\n",
              "      <td>4.0</td>\n",
              "      <td>{'latitude': 40.6322899, 'longitude': -73.9945...</td>\n",
              "      <td>[delivery]</td>\n",
              "      <td>{'address1': '5315 13th Ave', 'address2': '', ...</td>\n",
              "      <td>+17184352411</td>\n",
              "      <td>(718) 435-2411</td>\n",
              "      <td>8404.009543</td>\n",
              "      <td>$$</td>\n",
              "    </tr>\n",
              "    <tr>\n",
              "      <th>996</th>\n",
              "      <td>0AoaUlXkQOlalpA3v-Ivqw</td>\n",
              "      <td>lava-shawarma-new-york</td>\n",
              "      <td>Lava Shawarma</td>\n",
              "      <td>https://s3-media3.fl.yelpcdn.com/bphoto/CzE3dW...</td>\n",
              "      <td>False</td>\n",
              "      <td>https://www.yelp.com/biz/lava-shawarma-new-yor...</td>\n",
              "      <td>226</td>\n",
              "      <td>[{'alias': 'mediterranean', 'title': 'Mediterr...</td>\n",
              "      <td>4.5</td>\n",
              "      <td>{'latitude': 40.71964, 'longitude': -73.98507}</td>\n",
              "      <td>[delivery, pickup]</td>\n",
              "      <td>{'address1': '57 Clinton St', 'address2': '', ...</td>\n",
              "      <td>+16465594250</td>\n",
              "      <td>(646) 559-4250</td>\n",
              "      <td>1493.250393</td>\n",
              "      <td>$</td>\n",
              "    </tr>\n",
              "    <tr>\n",
              "      <th>997</th>\n",
              "      <td>RbMC9zD11aB3kgrXi6O3BQ</td>\n",
              "      <td>the-narrows-brooklyn</td>\n",
              "      <td>The Narrows</td>\n",
              "      <td>https://s3-media3.fl.yelpcdn.com/bphoto/gYIlra...</td>\n",
              "      <td>False</td>\n",
              "      <td>https://www.yelp.com/biz/the-narrows-brooklyn?...</td>\n",
              "      <td>188</td>\n",
              "      <td>[{'alias': 'bars', 'title': 'Bars'}, {'alias':...</td>\n",
              "      <td>4.0</td>\n",
              "      <td>{'latitude': 40.704114, 'longitude': -73.930878}</td>\n",
              "      <td>[delivery]</td>\n",
              "      <td>{'address1': '1037 Flushing Ave', 'address2': ...</td>\n",
              "      <td>+12818271800</td>\n",
              "      <td>(281) 827-1800</td>\n",
              "      <td>4084.570644</td>\n",
              "      <td>$$</td>\n",
              "    </tr>\n",
              "    <tr>\n",
              "      <th>998</th>\n",
              "      <td>OefJvbJxLW1ZTr-8HUZdyQ</td>\n",
              "      <td>the-grotto-brooklyn</td>\n",
              "      <td>The Grotto</td>\n",
              "      <td>https://s3-media2.fl.yelpcdn.com/bphoto/2Sp25o...</td>\n",
              "      <td>False</td>\n",
              "      <td>https://www.yelp.com/biz/the-grotto-brooklyn?a...</td>\n",
              "      <td>29</td>\n",
              "      <td>[{'alias': 'caribbean', 'title': 'Caribbean'},...</td>\n",
              "      <td>3.5</td>\n",
              "      <td>{'latitude': 40.68734, 'longitude': -73.95083}</td>\n",
              "      <td>[delivery, pickup]</td>\n",
              "      <td>{'address1': '321 Nostrand Ave', 'address2': '...</td>\n",
              "      <td>+13472953446</td>\n",
              "      <td>(347) 295-3446</td>\n",
              "      <td>3237.823588</td>\n",
              "      <td>NaN</td>\n",
              "    </tr>\n",
              "    <tr>\n",
              "      <th>999</th>\n",
              "      <td>owvn3TwI2oweLWh4D7strA</td>\n",
              "      <td>comfortland-astoria-2</td>\n",
              "      <td>Comfortland</td>\n",
              "      <td>https://s3-media2.fl.yelpcdn.com/bphoto/bkJWAQ...</td>\n",
              "      <td>False</td>\n",
              "      <td>https://www.yelp.com/biz/comfortland-astoria-2...</td>\n",
              "      <td>326</td>\n",
              "      <td>[{'alias': 'donuts', 'title': 'Donuts'}, {'ali...</td>\n",
              "      <td>4.0</td>\n",
              "      <td>{'latitude': 40.763865, 'longitude': -73.914546}</td>\n",
              "      <td>[delivery, pickup]</td>\n",
              "      <td>{'address1': '40-09 30th Ave', 'address2': '',...</td>\n",
              "      <td>+13476429932</td>\n",
              "      <td>(347) 642-9932</td>\n",
              "      <td>8347.206960</td>\n",
              "      <td>$$</td>\n",
              "    </tr>\n",
              "  </tbody>\n",
              "</table>\n",
              "</div>\n",
              "      <button class=\"colab-df-convert\" onclick=\"convertToInteractive('df-74fe275b-30e9-47c9-836b-69976ed537ce')\"\n",
              "              title=\"Convert this dataframe to an interactive table.\"\n",
              "              style=\"display:none;\">\n",
              "        \n",
              "  <svg xmlns=\"http://www.w3.org/2000/svg\" height=\"24px\"viewBox=\"0 0 24 24\"\n",
              "       width=\"24px\">\n",
              "    <path d=\"M0 0h24v24H0V0z\" fill=\"none\"/>\n",
              "    <path d=\"M18.56 5.44l.94 2.06.94-2.06 2.06-.94-2.06-.94-.94-2.06-.94 2.06-2.06.94zm-11 1L8.5 8.5l.94-2.06 2.06-.94-2.06-.94L8.5 2.5l-.94 2.06-2.06.94zm10 10l.94 2.06.94-2.06 2.06-.94-2.06-.94-.94-2.06-.94 2.06-2.06.94z\"/><path d=\"M17.41 7.96l-1.37-1.37c-.4-.4-.92-.59-1.43-.59-.52 0-1.04.2-1.43.59L10.3 9.45l-7.72 7.72c-.78.78-.78 2.05 0 2.83L4 21.41c.39.39.9.59 1.41.59.51 0 1.02-.2 1.41-.59l7.78-7.78 2.81-2.81c.8-.78.8-2.07 0-2.86zM5.41 20L4 18.59l7.72-7.72 1.47 1.35L5.41 20z\"/>\n",
              "  </svg>\n",
              "      </button>\n",
              "      \n",
              "  <style>\n",
              "    .colab-df-container {\n",
              "      display:flex;\n",
              "      flex-wrap:wrap;\n",
              "      gap: 12px;\n",
              "    }\n",
              "\n",
              "    .colab-df-convert {\n",
              "      background-color: #E8F0FE;\n",
              "      border: none;\n",
              "      border-radius: 50%;\n",
              "      cursor: pointer;\n",
              "      display: none;\n",
              "      fill: #1967D2;\n",
              "      height: 32px;\n",
              "      padding: 0 0 0 0;\n",
              "      width: 32px;\n",
              "    }\n",
              "\n",
              "    .colab-df-convert:hover {\n",
              "      background-color: #E2EBFA;\n",
              "      box-shadow: 0px 1px 2px rgba(60, 64, 67, 0.3), 0px 1px 3px 1px rgba(60, 64, 67, 0.15);\n",
              "      fill: #174EA6;\n",
              "    }\n",
              "\n",
              "    [theme=dark] .colab-df-convert {\n",
              "      background-color: #3B4455;\n",
              "      fill: #D2E3FC;\n",
              "    }\n",
              "\n",
              "    [theme=dark] .colab-df-convert:hover {\n",
              "      background-color: #434B5C;\n",
              "      box-shadow: 0px 1px 3px 1px rgba(0, 0, 0, 0.15);\n",
              "      filter: drop-shadow(0px 1px 2px rgba(0, 0, 0, 0.3));\n",
              "      fill: #FFFFFF;\n",
              "    }\n",
              "  </style>\n",
              "\n",
              "      <script>\n",
              "        const buttonEl =\n",
              "          document.querySelector('#df-74fe275b-30e9-47c9-836b-69976ed537ce button.colab-df-convert');\n",
              "        buttonEl.style.display =\n",
              "          google.colab.kernel.accessAllowed ? 'block' : 'none';\n",
              "\n",
              "        async function convertToInteractive(key) {\n",
              "          const element = document.querySelector('#df-74fe275b-30e9-47c9-836b-69976ed537ce');\n",
              "          const dataTable =\n",
              "            await google.colab.kernel.invokeFunction('convertToInteractive',\n",
              "                                                     [key], {});\n",
              "          if (!dataTable) return;\n",
              "\n",
              "          const docLinkHtml = 'Like what you see? Visit the ' +\n",
              "            '<a target=\"_blank\" href=https://colab.research.google.com/notebooks/data_table.ipynb>data table notebook</a>'\n",
              "            + ' to learn more about interactive tables.';\n",
              "          element.innerHTML = '';\n",
              "          dataTable['output_type'] = 'display_data';\n",
              "          await google.colab.output.renderOutput(dataTable, element);\n",
              "          const docLink = document.createElement('div');\n",
              "          docLink.innerHTML = docLinkHtml;\n",
              "          element.appendChild(docLink);\n",
              "        }\n",
              "      </script>\n",
              "    </div>\n",
              "  </div>\n",
              "  "
            ]
          },
          "metadata": {}
        }
      ]
    },
    {
      "cell_type": "code",
      "source": [
        "# check for duplicate ID's\n",
        "final_df.duplicated(subset='id').sum()"
      ],
      "metadata": {
        "colab": {
          "base_uri": "https://localhost:8080/"
        },
        "id": "2hfySLtk9cg4",
        "outputId": "8c965525-a5bc-4c68-dc94-acb24d4a4c3a"
      },
      "execution_count": null,
      "outputs": [
        {
          "output_type": "execute_result",
          "data": {
            "text/plain": [
              "237"
            ]
          },
          "metadata": {},
          "execution_count": 21
        }
      ]
    },
    {
      "cell_type": "code",
      "source": [
        "## Drop duplicate ids and confirm there are no more duplicates\n",
        "final_df = final_df.drop_duplicates(subset='id')\n",
        "final_df.duplicated(subset='id').sum()"
      ],
      "metadata": {
        "colab": {
          "base_uri": "https://localhost:8080/"
        },
        "id": "2IEifK2p9o5E",
        "outputId": "19d99d5b-f6f2-42e3-f839-aa299365adc9"
      },
      "execution_count": null,
      "outputs": [
        {
          "output_type": "execute_result",
          "data": {
            "text/plain": [
              "0"
            ]
          },
          "metadata": {},
          "execution_count": 22
        }
      ]
    },
    {
      "cell_type": "code",
      "source": [
        "# save the final results to a compressed csv\n",
        "final_df.to_csv('/content/results_in_progress_NY_Burgers.json', compression='gzip',index=False)"
      ],
      "metadata": {
        "id": "fDucgauA9ryz"
      },
      "execution_count": null,
      "outputs": []
    }
  ],
  "metadata": {
    "colab": {
      "provenance": [],
      "authorship_tag": "ABX9TyN3zbWcFKITDMADkbQ2n+rS",
      "include_colab_link": true
    },
    "kernelspec": {
      "display_name": "Python 3",
      "name": "python3"
    },
    "language_info": {
      "name": "python"
    },
    "widgets": {
      "application/vnd.jupyter.widget-state+json": {
        "6f099cb1420644e598b7ff903ad1cda7": {
          "model_module": "@jupyter-widgets/controls",
          "model_name": "HBoxModel",
          "model_module_version": "1.5.0",
          "state": {
            "_dom_classes": [],
            "_model_module": "@jupyter-widgets/controls",
            "_model_module_version": "1.5.0",
            "_model_name": "HBoxModel",
            "_view_count": null,
            "_view_module": "@jupyter-widgets/controls",
            "_view_module_version": "1.5.0",
            "_view_name": "HBoxView",
            "box_style": "",
            "children": [
              "IPY_MODEL_036447fe77a740ae940df2cea3295e78",
              "IPY_MODEL_09d959300ba24af5b998c29208e8e502",
              "IPY_MODEL_c08b7605ebbc416aa1da2a8e66857e48"
            ],
            "layout": "IPY_MODEL_96c51f87d3624589be2bfdcb60aef83d"
          }
        },
        "036447fe77a740ae940df2cea3295e78": {
          "model_module": "@jupyter-widgets/controls",
          "model_name": "HTMLModel",
          "model_module_version": "1.5.0",
          "state": {
            "_dom_classes": [],
            "_model_module": "@jupyter-widgets/controls",
            "_model_module_version": "1.5.0",
            "_model_name": "HTMLModel",
            "_view_count": null,
            "_view_module": "@jupyter-widgets/controls",
            "_view_module_version": "1.5.0",
            "_view_name": "HTMLView",
            "description": "",
            "description_tooltip": null,
            "layout": "IPY_MODEL_c5aa1d7442b9416987746f4335741b3c",
            "placeholder": "​",
            "style": "IPY_MODEL_173f340cdd1644a484ede1dec3c2d450",
            "value": "  6%"
          }
        },
        "09d959300ba24af5b998c29208e8e502": {
          "model_module": "@jupyter-widgets/controls",
          "model_name": "FloatProgressModel",
          "model_module_version": "1.5.0",
          "state": {
            "_dom_classes": [],
            "_model_module": "@jupyter-widgets/controls",
            "_model_module_version": "1.5.0",
            "_model_name": "FloatProgressModel",
            "_view_count": null,
            "_view_module": "@jupyter-widgets/controls",
            "_view_module_version": "1.5.0",
            "_view_name": "ProgressView",
            "bar_style": "danger",
            "description": "",
            "description_tooltip": null,
            "layout": "IPY_MODEL_be72682e137046c68e1ef8358865f6b7",
            "max": 845,
            "min": 0,
            "orientation": "horizontal",
            "style": "IPY_MODEL_98c14b11658b4f958627a33b57a04c1f",
            "value": 49
          }
        },
        "c08b7605ebbc416aa1da2a8e66857e48": {
          "model_module": "@jupyter-widgets/controls",
          "model_name": "HTMLModel",
          "model_module_version": "1.5.0",
          "state": {
            "_dom_classes": [],
            "_model_module": "@jupyter-widgets/controls",
            "_model_module_version": "1.5.0",
            "_model_name": "HTMLModel",
            "_view_count": null,
            "_view_module": "@jupyter-widgets/controls",
            "_view_module_version": "1.5.0",
            "_view_name": "HTMLView",
            "description": "",
            "description_tooltip": null,
            "layout": "IPY_MODEL_c6d258c26d4f4fc1ace3f0d0562cbb38",
            "placeholder": "​",
            "style": "IPY_MODEL_38e637c9bc96437baf9e357a88d5c4a2",
            "value": " 49/845 [01:11&lt;26:18,  1.98s/it]"
          }
        },
        "96c51f87d3624589be2bfdcb60aef83d": {
          "model_module": "@jupyter-widgets/base",
          "model_name": "LayoutModel",
          "model_module_version": "1.2.0",
          "state": {
            "_model_module": "@jupyter-widgets/base",
            "_model_module_version": "1.2.0",
            "_model_name": "LayoutModel",
            "_view_count": null,
            "_view_module": "@jupyter-widgets/base",
            "_view_module_version": "1.2.0",
            "_view_name": "LayoutView",
            "align_content": null,
            "align_items": null,
            "align_self": null,
            "border": null,
            "bottom": null,
            "display": null,
            "flex": null,
            "flex_flow": null,
            "grid_area": null,
            "grid_auto_columns": null,
            "grid_auto_flow": null,
            "grid_auto_rows": null,
            "grid_column": null,
            "grid_gap": null,
            "grid_row": null,
            "grid_template_areas": null,
            "grid_template_columns": null,
            "grid_template_rows": null,
            "height": null,
            "justify_content": null,
            "justify_items": null,
            "left": null,
            "margin": null,
            "max_height": null,
            "max_width": null,
            "min_height": null,
            "min_width": null,
            "object_fit": null,
            "object_position": null,
            "order": null,
            "overflow": null,
            "overflow_x": null,
            "overflow_y": null,
            "padding": null,
            "right": null,
            "top": null,
            "visibility": null,
            "width": null
          }
        },
        "c5aa1d7442b9416987746f4335741b3c": {
          "model_module": "@jupyter-widgets/base",
          "model_name": "LayoutModel",
          "model_module_version": "1.2.0",
          "state": {
            "_model_module": "@jupyter-widgets/base",
            "_model_module_version": "1.2.0",
            "_model_name": "LayoutModel",
            "_view_count": null,
            "_view_module": "@jupyter-widgets/base",
            "_view_module_version": "1.2.0",
            "_view_name": "LayoutView",
            "align_content": null,
            "align_items": null,
            "align_self": null,
            "border": null,
            "bottom": null,
            "display": null,
            "flex": null,
            "flex_flow": null,
            "grid_area": null,
            "grid_auto_columns": null,
            "grid_auto_flow": null,
            "grid_auto_rows": null,
            "grid_column": null,
            "grid_gap": null,
            "grid_row": null,
            "grid_template_areas": null,
            "grid_template_columns": null,
            "grid_template_rows": null,
            "height": null,
            "justify_content": null,
            "justify_items": null,
            "left": null,
            "margin": null,
            "max_height": null,
            "max_width": null,
            "min_height": null,
            "min_width": null,
            "object_fit": null,
            "object_position": null,
            "order": null,
            "overflow": null,
            "overflow_x": null,
            "overflow_y": null,
            "padding": null,
            "right": null,
            "top": null,
            "visibility": null,
            "width": null
          }
        },
        "173f340cdd1644a484ede1dec3c2d450": {
          "model_module": "@jupyter-widgets/controls",
          "model_name": "DescriptionStyleModel",
          "model_module_version": "1.5.0",
          "state": {
            "_model_module": "@jupyter-widgets/controls",
            "_model_module_version": "1.5.0",
            "_model_name": "DescriptionStyleModel",
            "_view_count": null,
            "_view_module": "@jupyter-widgets/base",
            "_view_module_version": "1.2.0",
            "_view_name": "StyleView",
            "description_width": ""
          }
        },
        "be72682e137046c68e1ef8358865f6b7": {
          "model_module": "@jupyter-widgets/base",
          "model_name": "LayoutModel",
          "model_module_version": "1.2.0",
          "state": {
            "_model_module": "@jupyter-widgets/base",
            "_model_module_version": "1.2.0",
            "_model_name": "LayoutModel",
            "_view_count": null,
            "_view_module": "@jupyter-widgets/base",
            "_view_module_version": "1.2.0",
            "_view_name": "LayoutView",
            "align_content": null,
            "align_items": null,
            "align_self": null,
            "border": null,
            "bottom": null,
            "display": null,
            "flex": null,
            "flex_flow": null,
            "grid_area": null,
            "grid_auto_columns": null,
            "grid_auto_flow": null,
            "grid_auto_rows": null,
            "grid_column": null,
            "grid_gap": null,
            "grid_row": null,
            "grid_template_areas": null,
            "grid_template_columns": null,
            "grid_template_rows": null,
            "height": null,
            "justify_content": null,
            "justify_items": null,
            "left": null,
            "margin": null,
            "max_height": null,
            "max_width": null,
            "min_height": null,
            "min_width": null,
            "object_fit": null,
            "object_position": null,
            "order": null,
            "overflow": null,
            "overflow_x": null,
            "overflow_y": null,
            "padding": null,
            "right": null,
            "top": null,
            "visibility": null,
            "width": null
          }
        },
        "98c14b11658b4f958627a33b57a04c1f": {
          "model_module": "@jupyter-widgets/controls",
          "model_name": "ProgressStyleModel",
          "model_module_version": "1.5.0",
          "state": {
            "_model_module": "@jupyter-widgets/controls",
            "_model_module_version": "1.5.0",
            "_model_name": "ProgressStyleModel",
            "_view_count": null,
            "_view_module": "@jupyter-widgets/base",
            "_view_module_version": "1.2.0",
            "_view_name": "StyleView",
            "bar_color": null,
            "description_width": ""
          }
        },
        "c6d258c26d4f4fc1ace3f0d0562cbb38": {
          "model_module": "@jupyter-widgets/base",
          "model_name": "LayoutModel",
          "model_module_version": "1.2.0",
          "state": {
            "_model_module": "@jupyter-widgets/base",
            "_model_module_version": "1.2.0",
            "_model_name": "LayoutModel",
            "_view_count": null,
            "_view_module": "@jupyter-widgets/base",
            "_view_module_version": "1.2.0",
            "_view_name": "LayoutView",
            "align_content": null,
            "align_items": null,
            "align_self": null,
            "border": null,
            "bottom": null,
            "display": null,
            "flex": null,
            "flex_flow": null,
            "grid_area": null,
            "grid_auto_columns": null,
            "grid_auto_flow": null,
            "grid_auto_rows": null,
            "grid_column": null,
            "grid_gap": null,
            "grid_row": null,
            "grid_template_areas": null,
            "grid_template_columns": null,
            "grid_template_rows": null,
            "height": null,
            "justify_content": null,
            "justify_items": null,
            "left": null,
            "margin": null,
            "max_height": null,
            "max_width": null,
            "min_height": null,
            "min_width": null,
            "object_fit": null,
            "object_position": null,
            "order": null,
            "overflow": null,
            "overflow_x": null,
            "overflow_y": null,
            "padding": null,
            "right": null,
            "top": null,
            "visibility": null,
            "width": null
          }
        },
        "38e637c9bc96437baf9e357a88d5c4a2": {
          "model_module": "@jupyter-widgets/controls",
          "model_name": "DescriptionStyleModel",
          "model_module_version": "1.5.0",
          "state": {
            "_model_module": "@jupyter-widgets/controls",
            "_model_module_version": "1.5.0",
            "_model_name": "DescriptionStyleModel",
            "_view_count": null,
            "_view_module": "@jupyter-widgets/base",
            "_view_module_version": "1.2.0",
            "_view_name": "StyleView",
            "description_width": ""
          }
        },
        "1d7faef5921647209a266ceea5c46383": {
          "model_module": "@jupyter-widgets/controls",
          "model_name": "HBoxModel",
          "model_module_version": "1.5.0",
          "state": {
            "_dom_classes": [],
            "_model_module": "@jupyter-widgets/controls",
            "_model_module_version": "1.5.0",
            "_model_name": "HBoxModel",
            "_view_count": null,
            "_view_module": "@jupyter-widgets/controls",
            "_view_module_version": "1.5.0",
            "_view_name": "HBoxView",
            "box_style": "",
            "children": [
              "IPY_MODEL_8d2f1549100d48c7a03c0588de16ff42",
              "IPY_MODEL_1f6c012959c34856b7986d5c1c6aad6c",
              "IPY_MODEL_dec42c441bfa49279b193969cb15ab5f"
            ],
            "layout": "IPY_MODEL_f851764a193843269ef5d9d7a2dfc053"
          }
        },
        "8d2f1549100d48c7a03c0588de16ff42": {
          "model_module": "@jupyter-widgets/controls",
          "model_name": "HTMLModel",
          "model_module_version": "1.5.0",
          "state": {
            "_dom_classes": [],
            "_model_module": "@jupyter-widgets/controls",
            "_model_module_version": "1.5.0",
            "_model_name": "HTMLModel",
            "_view_count": null,
            "_view_module": "@jupyter-widgets/controls",
            "_view_module_version": "1.5.0",
            "_view_name": "HTMLView",
            "description": "",
            "description_tooltip": null,
            "layout": "IPY_MODEL_d2bdadc35c9843808c11dab7e1e49265",
            "placeholder": "​",
            "style": "IPY_MODEL_a7314ff3488e43cf89353acc48dfa5cd",
            "value": "  6%"
          }
        },
        "1f6c012959c34856b7986d5c1c6aad6c": {
          "model_module": "@jupyter-widgets/controls",
          "model_name": "FloatProgressModel",
          "model_module_version": "1.5.0",
          "state": {
            "_dom_classes": [],
            "_model_module": "@jupyter-widgets/controls",
            "_model_module_version": "1.5.0",
            "_model_name": "FloatProgressModel",
            "_view_count": null,
            "_view_module": "@jupyter-widgets/controls",
            "_view_module_version": "1.5.0",
            "_view_name": "ProgressView",
            "bar_style": "danger",
            "description": "",
            "description_tooltip": null,
            "layout": "IPY_MODEL_424afff96c3e4daba8d656192c8b9fa4",
            "max": 875,
            "min": 0,
            "orientation": "horizontal",
            "style": "IPY_MODEL_9294b390097f46549c60c4f8c8fb4bd3",
            "value": 50
          }
        },
        "dec42c441bfa49279b193969cb15ab5f": {
          "model_module": "@jupyter-widgets/controls",
          "model_name": "HTMLModel",
          "model_module_version": "1.5.0",
          "state": {
            "_dom_classes": [],
            "_model_module": "@jupyter-widgets/controls",
            "_model_module_version": "1.5.0",
            "_model_name": "HTMLModel",
            "_view_count": null,
            "_view_module": "@jupyter-widgets/controls",
            "_view_module_version": "1.5.0",
            "_view_name": "HTMLView",
            "description": "",
            "description_tooltip": null,
            "layout": "IPY_MODEL_fc0f18a007b64046806603c0bf76c974",
            "placeholder": "​",
            "style": "IPY_MODEL_50075824141f4e00b42a79d20b2481cc",
            "value": " 50/875 [01:17&lt;26:12,  1.91s/it]"
          }
        },
        "f851764a193843269ef5d9d7a2dfc053": {
          "model_module": "@jupyter-widgets/base",
          "model_name": "LayoutModel",
          "model_module_version": "1.2.0",
          "state": {
            "_model_module": "@jupyter-widgets/base",
            "_model_module_version": "1.2.0",
            "_model_name": "LayoutModel",
            "_view_count": null,
            "_view_module": "@jupyter-widgets/base",
            "_view_module_version": "1.2.0",
            "_view_name": "LayoutView",
            "align_content": null,
            "align_items": null,
            "align_self": null,
            "border": null,
            "bottom": null,
            "display": null,
            "flex": null,
            "flex_flow": null,
            "grid_area": null,
            "grid_auto_columns": null,
            "grid_auto_flow": null,
            "grid_auto_rows": null,
            "grid_column": null,
            "grid_gap": null,
            "grid_row": null,
            "grid_template_areas": null,
            "grid_template_columns": null,
            "grid_template_rows": null,
            "height": null,
            "justify_content": null,
            "justify_items": null,
            "left": null,
            "margin": null,
            "max_height": null,
            "max_width": null,
            "min_height": null,
            "min_width": null,
            "object_fit": null,
            "object_position": null,
            "order": null,
            "overflow": null,
            "overflow_x": null,
            "overflow_y": null,
            "padding": null,
            "right": null,
            "top": null,
            "visibility": null,
            "width": null
          }
        },
        "d2bdadc35c9843808c11dab7e1e49265": {
          "model_module": "@jupyter-widgets/base",
          "model_name": "LayoutModel",
          "model_module_version": "1.2.0",
          "state": {
            "_model_module": "@jupyter-widgets/base",
            "_model_module_version": "1.2.0",
            "_model_name": "LayoutModel",
            "_view_count": null,
            "_view_module": "@jupyter-widgets/base",
            "_view_module_version": "1.2.0",
            "_view_name": "LayoutView",
            "align_content": null,
            "align_items": null,
            "align_self": null,
            "border": null,
            "bottom": null,
            "display": null,
            "flex": null,
            "flex_flow": null,
            "grid_area": null,
            "grid_auto_columns": null,
            "grid_auto_flow": null,
            "grid_auto_rows": null,
            "grid_column": null,
            "grid_gap": null,
            "grid_row": null,
            "grid_template_areas": null,
            "grid_template_columns": null,
            "grid_template_rows": null,
            "height": null,
            "justify_content": null,
            "justify_items": null,
            "left": null,
            "margin": null,
            "max_height": null,
            "max_width": null,
            "min_height": null,
            "min_width": null,
            "object_fit": null,
            "object_position": null,
            "order": null,
            "overflow": null,
            "overflow_x": null,
            "overflow_y": null,
            "padding": null,
            "right": null,
            "top": null,
            "visibility": null,
            "width": null
          }
        },
        "a7314ff3488e43cf89353acc48dfa5cd": {
          "model_module": "@jupyter-widgets/controls",
          "model_name": "DescriptionStyleModel",
          "model_module_version": "1.5.0",
          "state": {
            "_model_module": "@jupyter-widgets/controls",
            "_model_module_version": "1.5.0",
            "_model_name": "DescriptionStyleModel",
            "_view_count": null,
            "_view_module": "@jupyter-widgets/base",
            "_view_module_version": "1.2.0",
            "_view_name": "StyleView",
            "description_width": ""
          }
        },
        "424afff96c3e4daba8d656192c8b9fa4": {
          "model_module": "@jupyter-widgets/base",
          "model_name": "LayoutModel",
          "model_module_version": "1.2.0",
          "state": {
            "_model_module": "@jupyter-widgets/base",
            "_model_module_version": "1.2.0",
            "_model_name": "LayoutModel",
            "_view_count": null,
            "_view_module": "@jupyter-widgets/base",
            "_view_module_version": "1.2.0",
            "_view_name": "LayoutView",
            "align_content": null,
            "align_items": null,
            "align_self": null,
            "border": null,
            "bottom": null,
            "display": null,
            "flex": null,
            "flex_flow": null,
            "grid_area": null,
            "grid_auto_columns": null,
            "grid_auto_flow": null,
            "grid_auto_rows": null,
            "grid_column": null,
            "grid_gap": null,
            "grid_row": null,
            "grid_template_areas": null,
            "grid_template_columns": null,
            "grid_template_rows": null,
            "height": null,
            "justify_content": null,
            "justify_items": null,
            "left": null,
            "margin": null,
            "max_height": null,
            "max_width": null,
            "min_height": null,
            "min_width": null,
            "object_fit": null,
            "object_position": null,
            "order": null,
            "overflow": null,
            "overflow_x": null,
            "overflow_y": null,
            "padding": null,
            "right": null,
            "top": null,
            "visibility": null,
            "width": null
          }
        },
        "9294b390097f46549c60c4f8c8fb4bd3": {
          "model_module": "@jupyter-widgets/controls",
          "model_name": "ProgressStyleModel",
          "model_module_version": "1.5.0",
          "state": {
            "_model_module": "@jupyter-widgets/controls",
            "_model_module_version": "1.5.0",
            "_model_name": "ProgressStyleModel",
            "_view_count": null,
            "_view_module": "@jupyter-widgets/base",
            "_view_module_version": "1.2.0",
            "_view_name": "StyleView",
            "bar_color": null,
            "description_width": ""
          }
        },
        "fc0f18a007b64046806603c0bf76c974": {
          "model_module": "@jupyter-widgets/base",
          "model_name": "LayoutModel",
          "model_module_version": "1.2.0",
          "state": {
            "_model_module": "@jupyter-widgets/base",
            "_model_module_version": "1.2.0",
            "_model_name": "LayoutModel",
            "_view_count": null,
            "_view_module": "@jupyter-widgets/base",
            "_view_module_version": "1.2.0",
            "_view_name": "LayoutView",
            "align_content": null,
            "align_items": null,
            "align_self": null,
            "border": null,
            "bottom": null,
            "display": null,
            "flex": null,
            "flex_flow": null,
            "grid_area": null,
            "grid_auto_columns": null,
            "grid_auto_flow": null,
            "grid_auto_rows": null,
            "grid_column": null,
            "grid_gap": null,
            "grid_row": null,
            "grid_template_areas": null,
            "grid_template_columns": null,
            "grid_template_rows": null,
            "height": null,
            "justify_content": null,
            "justify_items": null,
            "left": null,
            "margin": null,
            "max_height": null,
            "max_width": null,
            "min_height": null,
            "min_width": null,
            "object_fit": null,
            "object_position": null,
            "order": null,
            "overflow": null,
            "overflow_x": null,
            "overflow_y": null,
            "padding": null,
            "right": null,
            "top": null,
            "visibility": null,
            "width": null
          }
        },
        "50075824141f4e00b42a79d20b2481cc": {
          "model_module": "@jupyter-widgets/controls",
          "model_name": "DescriptionStyleModel",
          "model_module_version": "1.5.0",
          "state": {
            "_model_module": "@jupyter-widgets/controls",
            "_model_module_version": "1.5.0",
            "_model_name": "DescriptionStyleModel",
            "_view_count": null,
            "_view_module": "@jupyter-widgets/base",
            "_view_module_version": "1.2.0",
            "_view_name": "StyleView",
            "description_width": ""
          }
        }
      }
    }
  },
  "nbformat": 4,
  "nbformat_minor": 0
}